{
 "cells": [
  {
   "cell_type": "markdown",
   "metadata": {},
   "source": [
    "# Setup"
   ]
  },
  {
   "cell_type": "code",
   "execution_count": 1,
   "metadata": {},
   "outputs": [
    {
     "name": "stderr",
     "output_type": "stream",
     "text": [
      "/Users/midataur/Documents/github/permutations/scaling-generator/.venv/lib/python3.12/site-packages/tqdm/auto.py:21: TqdmWarning: IProgress not found. Please update jupyter and ipywidgets. See https://ipywidgets.readthedocs.io/en/stable/user_install.html\n",
      "  from .autonotebook import tqdm as notebook_tqdm\n"
     ]
    }
   ],
   "source": [
    "import torch.optim as optim\n",
    "import torch.nn.functional as F\n",
    "from torch.optim.lr_scheduler import ReduceLROnPlateau\n",
    "import wandb\n",
    "from utilities import *\n",
    "from config import *\n",
    "from dataloading import *\n",
    "from tqdm import tqdm\n",
    "from transformer import *\n",
    "import os"
   ]
  },
  {
   "cell_type": "code",
   "execution_count": 3,
   "metadata": {},
   "outputs": [
    {
     "name": "stderr",
     "output_type": "stream",
     "text": [
      "Loading data: 200000it [00:14, 13962.66it/s]\n",
      "Loading data: 10000it [00:00, 54550.90it/s]\n",
      "Loading data: 5000it [00:00, 57823.60it/s]\n"
     ]
    }
   ],
   "source": [
    "(\n",
    "        train_inputs, train_perms, train_dataloader, \n",
    "        val_seqs, val_perms, val_dataloader,\n",
    "        test_seqs, test_perms, test_dataloader,\n",
    "        dataset_size\n",
    ") = load_data()"
   ]
  },
  {
   "cell_type": "markdown",
   "metadata": {},
   "source": [
    "## Load model (accelerator version)"
   ]
  },
  {
   "cell_type": "code",
   "execution_count": 11,
   "metadata": {},
   "outputs": [],
   "source": [
    "from accelerate import Accelerator, load_checkpoint_and_dispatch\n",
    "\n",
    "# setup the model\n",
    "model = BigramLanguageModel()\n",
    "\n",
    "accelerator = Accelerator()\n",
    "\n",
    "# optionally: load the model\n",
    "save_directory = f\"{PATH}/model/{MODELNAME}\"\n",
    "file_path = f\"{save_directory}/model.safetensors\"\n",
    "\n",
    "model = load_checkpoint_and_dispatch(model, file_path)"
   ]
  },
  {
   "cell_type": "code",
   "execution_count": 13,
   "metadata": {},
   "outputs": [
    {
     "data": {
      "text/plain": [
       "BigramLanguageModel(\n",
       "  (token_embedding_table): Embedding(52, 606)\n",
       "  (position_embedding): Embedding(66, 606)\n",
       "  (sa_heads): MultiHeadAttention(\n",
       "    (heads): ModuleList(\n",
       "      (0-5): 6 x Head(\n",
       "        (key): Linear(in_features=606, out_features=101, bias=False)\n",
       "        (query): Linear(in_features=606, out_features=101, bias=False)\n",
       "        (value): Linear(in_features=606, out_features=101, bias=False)\n",
       "        (dropout): Dropout(p=0, inplace=False)\n",
       "      )\n",
       "    )\n",
       "    (proj): Linear(in_features=606, out_features=606, bias=True)\n",
       "    (dropout): Dropout(p=0, inplace=False)\n",
       "  )\n",
       "  (blocks): Sequential(\n",
       "    (0): Block(\n",
       "      (sa): MultiHeadAttention(\n",
       "        (heads): ModuleList(\n",
       "          (0-5): 6 x Head(\n",
       "            (key): Linear(in_features=606, out_features=101, bias=False)\n",
       "            (query): Linear(in_features=606, out_features=101, bias=False)\n",
       "            (value): Linear(in_features=606, out_features=101, bias=False)\n",
       "            (dropout): Dropout(p=0, inplace=False)\n",
       "          )\n",
       "        )\n",
       "        (proj): Linear(in_features=606, out_features=606, bias=True)\n",
       "        (dropout): Dropout(p=0, inplace=False)\n",
       "      )\n",
       "      (ffwd): FeedForward(\n",
       "        (net): Sequential(\n",
       "          (0): Linear(in_features=606, out_features=2424, bias=True)\n",
       "          (1): ReLU()\n",
       "          (2): Linear(in_features=2424, out_features=606, bias=True)\n",
       "          (3): Dropout(p=0, inplace=False)\n",
       "        )\n",
       "      )\n",
       "      (ln1): LayerNorm((606,), eps=1e-05, elementwise_affine=True)\n",
       "      (ln2): LayerNorm((606,), eps=1e-05, elementwise_affine=True)\n",
       "    )\n",
       "    (1): Block(\n",
       "      (sa): MultiHeadAttention(\n",
       "        (heads): ModuleList(\n",
       "          (0-5): 6 x Head(\n",
       "            (key): Linear(in_features=606, out_features=101, bias=False)\n",
       "            (query): Linear(in_features=606, out_features=101, bias=False)\n",
       "            (value): Linear(in_features=606, out_features=101, bias=False)\n",
       "            (dropout): Dropout(p=0, inplace=False)\n",
       "          )\n",
       "        )\n",
       "        (proj): Linear(in_features=606, out_features=606, bias=True)\n",
       "        (dropout): Dropout(p=0, inplace=False)\n",
       "      )\n",
       "      (ffwd): FeedForward(\n",
       "        (net): Sequential(\n",
       "          (0): Linear(in_features=606, out_features=2424, bias=True)\n",
       "          (1): ReLU()\n",
       "          (2): Linear(in_features=2424, out_features=606, bias=True)\n",
       "          (3): Dropout(p=0, inplace=False)\n",
       "        )\n",
       "      )\n",
       "      (ln1): LayerNorm((606,), eps=1e-05, elementwise_affine=True)\n",
       "      (ln2): LayerNorm((606,), eps=1e-05, elementwise_affine=True)\n",
       "    )\n",
       "    (2): Block(\n",
       "      (sa): MultiHeadAttention(\n",
       "        (heads): ModuleList(\n",
       "          (0-5): 6 x Head(\n",
       "            (key): Linear(in_features=606, out_features=101, bias=False)\n",
       "            (query): Linear(in_features=606, out_features=101, bias=False)\n",
       "            (value): Linear(in_features=606, out_features=101, bias=False)\n",
       "            (dropout): Dropout(p=0, inplace=False)\n",
       "          )\n",
       "        )\n",
       "        (proj): Linear(in_features=606, out_features=606, bias=True)\n",
       "        (dropout): Dropout(p=0, inplace=False)\n",
       "      )\n",
       "      (ffwd): FeedForward(\n",
       "        (net): Sequential(\n",
       "          (0): Linear(in_features=606, out_features=2424, bias=True)\n",
       "          (1): ReLU()\n",
       "          (2): Linear(in_features=2424, out_features=606, bias=True)\n",
       "          (3): Dropout(p=0, inplace=False)\n",
       "        )\n",
       "      )\n",
       "      (ln1): LayerNorm((606,), eps=1e-05, elementwise_affine=True)\n",
       "      (ln2): LayerNorm((606,), eps=1e-05, elementwise_affine=True)\n",
       "    )\n",
       "    (3): Block(\n",
       "      (sa): MultiHeadAttention(\n",
       "        (heads): ModuleList(\n",
       "          (0-5): 6 x Head(\n",
       "            (key): Linear(in_features=606, out_features=101, bias=False)\n",
       "            (query): Linear(in_features=606, out_features=101, bias=False)\n",
       "            (value): Linear(in_features=606, out_features=101, bias=False)\n",
       "            (dropout): Dropout(p=0, inplace=False)\n",
       "          )\n",
       "        )\n",
       "        (proj): Linear(in_features=606, out_features=606, bias=True)\n",
       "        (dropout): Dropout(p=0, inplace=False)\n",
       "      )\n",
       "      (ffwd): FeedForward(\n",
       "        (net): Sequential(\n",
       "          (0): Linear(in_features=606, out_features=2424, bias=True)\n",
       "          (1): ReLU()\n",
       "          (2): Linear(in_features=2424, out_features=606, bias=True)\n",
       "          (3): Dropout(p=0, inplace=False)\n",
       "        )\n",
       "      )\n",
       "      (ln1): LayerNorm((606,), eps=1e-05, elementwise_affine=True)\n",
       "      (ln2): LayerNorm((606,), eps=1e-05, elementwise_affine=True)\n",
       "    )\n",
       "    (4): LayerNorm((606,), eps=1e-05, elementwise_affine=True)\n",
       "  )\n",
       "  (lm_head): Linear(in_features=606, out_features=52, bias=False)\n",
       "  (softmax): Softmax(dim=1)\n",
       ")"
      ]
     },
     "execution_count": 13,
     "metadata": {},
     "output_type": "execute_result"
    }
   ],
   "source": [
    "model"
   ]
  },
  {
   "cell_type": "code",
   "execution_count": 14,
   "metadata": {},
   "outputs": [
    {
     "data": {
      "text/plain": [
       "19225350"
      ]
     },
     "execution_count": 14,
     "metadata": {},
     "output_type": "execute_result"
    }
   ],
   "source": [
    "sum(p.numel() for p in model.parameters() if p.requires_grad)"
   ]
  },
  {
   "cell_type": "markdown",
   "metadata": {},
   "source": [
    "## Load model (legacy version)"
   ]
  },
  {
   "cell_type": "code",
   "execution_count": 4,
   "metadata": {},
   "outputs": [
    {
     "data": {
      "text/plain": [
       "True"
      ]
     },
     "execution_count": 4,
     "metadata": {},
     "output_type": "execute_result"
    }
   ],
   "source": [
    "from accelerate import Accelerator, load_checkpoint_and_dispatch\n",
    "\n",
    "# setup the model\n",
    "model = BigramLanguageModel()\n",
    "\n",
    "device = \"cpu\"\n",
    "model = nn.DataParallel(model)\n",
    "model = model.to(device)\n",
    "\n",
    "# optionally: load the model\n",
    "filename = f\"{PATH}/model/{MODELNAME}.pth\"\n",
    "\n",
    "if os.path.isfile(filename):\n",
    "    model.load_state_dict(torch.load(filename, map_location=torch.device(device)))\n",
    "\n",
    "os.path.isfile(filename)"
   ]
  },
  {
   "cell_type": "code",
   "execution_count": null,
   "metadata": {},
   "outputs": [],
   "source": [
    "19_225_350"
   ]
  },
  {
   "cell_type": "code",
   "execution_count": null,
   "metadata": {},
   "outputs": [],
   "source": [
    "!pwd"
   ]
  },
  {
   "cell_type": "code",
   "execution_count": null,
   "metadata": {},
   "outputs": [],
   "source": [
    "torch.norm(model.module.position_embedding(torch.arange(block_size)), dim=1)"
   ]
  },
  {
   "cell_type": "code",
   "execution_count": null,
   "metadata": {},
   "outputs": [],
   "source": [
    "INPUT_LENGTH"
   ]
  },
  {
   "cell_type": "code",
   "execution_count": 5,
   "metadata": {},
   "outputs": [
    {
     "data": {
      "application/vnd.plotly.v1+json": {
       "config": {
        "plotlyServerURL": "https://plot.ly"
       },
       "data": [
        {
         "coloraxis": "coloraxis",
         "hovertemplate": "x: %{x}<br>y: %{y}<br>color: %{z}<extra></extra>",
         "name": "0",
         "type": "heatmap",
         "xaxis": "x",
         "yaxis": "y",
         "z": [
          [
           1,
           0.8090169943749475,
           0.3090169943749475,
           -0.30901699437494734,
           -0.8090169943749473,
           -1,
           -0.8090169943749476,
           -0.30901699437494756,
           0.30901699437494723,
           0.8090169943749473,
           1,
           0.8090169943749481,
           0.30901699437494773,
           -0.3090169943749472,
           -0.8090169943749472,
           -1,
           -0.8090169943749477,
           -0.30901699437494784,
           0.309016994374947,
           0.8090169943749472
          ],
          [
           0.8090169943749475,
           1,
           0.8090169943749476,
           0.3090169943749475,
           -0.30901699437494723,
           -0.8090169943749473,
           -1.0000000000000002,
           -0.8090169943749476,
           -0.3090169943749476,
           0.3090169943749472,
           0.8090169943749473,
           1,
           0.8090169943749477,
           0.3090169943749478,
           -0.3090169943749472,
           -0.8090169943749472,
           -1,
           -0.8090169943749477,
           -0.3090169943749479,
           0.30901699437494706
          ],
          [
           0.3090169943749475,
           0.8090169943749476,
           1.0000000000000002,
           0.8090169943749476,
           0.30901699437494756,
           -0.3090169943749474,
           -0.8090169943749476,
           -1.0000000000000002,
           -0.8090169943749477,
           -0.3090169943749477,
           0.3090169943749473,
           0.8090169943749469,
           1.0000000000000002,
           0.8090169943749478,
           0.30901699437494773,
           -0.3090169943749472,
           -0.8090169943749473,
           -1.0000000000000002,
           -0.8090169943749478,
           -0.30901699437494784
          ],
          [
           -0.30901699437494734,
           0.3090169943749475,
           0.8090169943749476,
           1,
           0.8090169943749475,
           0.30901699437494745,
           -0.30901699437494745,
           -0.8090169943749475,
           -1,
           -0.8090169943749476,
           -0.30901699437494756,
           0.30901699437494645,
           0.8090169943749473,
           1.0000000000000002,
           0.8090169943749476,
           0.3090169943749477,
           -0.3090169943749472,
           -0.8090169943749472,
           -1,
           -0.8090169943749478
          ],
          [
           -0.8090169943749473,
           -0.30901699437494723,
           0.30901699437494756,
           0.8090169943749475,
           1,
           0.8090169943749475,
           0.3090169943749474,
           -0.3090169943749474,
           -0.8090169943749473,
           -1,
           -0.8090169943749475,
           -0.30901699437494834,
           0.3090169943749473,
           0.8090169943749475,
           1,
           0.8090169943749476,
           0.3090169943749477,
           -0.3090169943749471,
           -0.8090169943749472,
           -1.0000000000000002
          ],
          [
           -1,
           -0.8090169943749473,
           -0.3090169943749474,
           0.30901699437494745,
           0.8090169943749475,
           1,
           0.8090169943749475,
           0.30901699437494745,
           -0.30901699437494734,
           -0.8090169943749475,
           -1,
           -0.809016994374948,
           -0.3090169943749476,
           0.3090169943749473,
           0.8090169943749473,
           1,
           0.8090169943749476,
           0.30901699437494773,
           -0.3090169943749471,
           -0.8090169943749473
          ],
          [
           -0.8090169943749476,
           -1.0000000000000002,
           -0.8090169943749476,
           -0.30901699437494745,
           0.3090169943749474,
           0.8090169943749475,
           1.0000000000000002,
           0.8090169943749476,
           0.30901699437494756,
           -0.3090169943749473,
           -0.8090169943749475,
           -1.0000000000000002,
           -0.8090169943749477,
           -0.3090169943749477,
           0.3090169943749473,
           0.8090169943749473,
           1.0000000000000002,
           0.8090169943749477,
           0.30901699437494784,
           -0.3090169943749471
          ],
          [
           -0.30901699437494756,
           -0.8090169943749476,
           -1.0000000000000002,
           -0.8090169943749475,
           -0.3090169943749474,
           0.30901699437494745,
           0.8090169943749476,
           1,
           0.8090169943749475,
           0.3090169943749475,
           -0.30901699437494734,
           -0.8090169943749469,
           -1,
           -0.8090169943749477,
           -0.30901699437494756,
           0.30901699437494723,
           0.8090169943749472,
           1,
           0.8090169943749477,
           0.3090169943749478
          ],
          [
           0.30901699437494723,
           -0.3090169943749476,
           -0.8090169943749477,
           -1,
           -0.8090169943749473,
           -0.30901699437494734,
           0.30901699437494756,
           0.8090169943749475,
           1,
           0.8090169943749475,
           0.30901699437494745,
           -0.30901699437494656,
           -0.8090169943749475,
           -1.0000000000000002,
           -0.8090169943749475,
           -0.30901699437494756,
           0.30901699437494723,
           0.8090169943749472,
           1,
           0.8090169943749477
          ],
          [
           0.8090169943749473,
           0.3090169943749472,
           -0.3090169943749477,
           -0.8090169943749476,
           -1,
           -0.8090169943749475,
           -0.3090169943749473,
           0.3090169943749475,
           0.8090169943749475,
           1.0000000000000002,
           0.8090169943749475,
           0.3090169943749483,
           -0.3090169943749474,
           -0.8090169943749476,
           -1,
           -0.8090169943749476,
           -0.3090169943749476,
           0.30901699437494723,
           0.8090169943749473,
           1.0000000000000002
          ],
          [
           1,
           0.8090169943749473,
           0.3090169943749473,
           -0.30901699437494756,
           -0.8090169943749475,
           -1,
           -0.8090169943749475,
           -0.30901699437494734,
           0.30901699437494745,
           0.8090169943749475,
           1,
           0.809016994374948,
           0.3090169943749475,
           -0.3090169943749474,
           -0.8090169943749473,
           -1,
           -0.8090169943749476,
           -0.3090169943749476,
           0.30901699437494723,
           0.8090169943749473
          ],
          [
           0.8090169943749481,
           1,
           0.8090169943749469,
           0.30901699437494645,
           -0.30901699437494834,
           -0.809016994374948,
           -1.0000000000000002,
           -0.8090169943749469,
           -0.30901699437494656,
           0.3090169943749483,
           0.809016994374948,
           1,
           0.809016994374947,
           0.30901699437494673,
           -0.3090169943749483,
           -0.8090169943749479,
           -1,
           -0.809016994374947,
           -0.3090169943749468,
           0.3090169943749481
          ],
          [
           0.30901699437494773,
           0.8090169943749477,
           1.0000000000000002,
           0.8090169943749473,
           0.3090169943749473,
           -0.3090169943749476,
           -0.8090169943749477,
           -1,
           -0.8090169943749475,
           -0.3090169943749474,
           0.3090169943749475,
           0.809016994374947,
           1.0000000000000002,
           0.8090169943749476,
           0.30901699437494745,
           -0.3090169943749474,
           -0.8090169943749475,
           -1,
           -0.8090169943749476,
           -0.3090169943749476
          ],
          [
           -0.3090169943749472,
           0.3090169943749478,
           0.8090169943749478,
           1.0000000000000002,
           0.8090169943749475,
           0.3090169943749473,
           -0.3090169943749477,
           -0.8090169943749477,
           -1.0000000000000002,
           -0.8090169943749476,
           -0.3090169943749474,
           0.30901699437494673,
           0.8090169943749476,
           1.0000000000000002,
           0.8090169943749475,
           0.3090169943749475,
           -0.3090169943749474,
           -0.8090169943749475,
           -1.0000000000000002,
           -0.8090169943749477
          ],
          [
           -0.8090169943749472,
           -0.3090169943749472,
           0.30901699437494773,
           0.8090169943749476,
           1,
           0.8090169943749473,
           0.3090169943749473,
           -0.30901699437494756,
           -0.8090169943749475,
           -1,
           -0.8090169943749473,
           -0.3090169943749483,
           0.30901699437494745,
           0.8090169943749475,
           1,
           0.8090169943749475,
           0.3090169943749475,
           -0.3090169943749473,
           -0.8090169943749473,
           -1
          ],
          [
           -1,
           -0.8090169943749472,
           -0.3090169943749472,
           0.3090169943749477,
           0.8090169943749476,
           1,
           0.8090169943749473,
           0.30901699437494723,
           -0.30901699437494756,
           -0.8090169943749476,
           -1,
           -0.8090169943749479,
           -0.3090169943749474,
           0.3090169943749475,
           0.8090169943749475,
           1,
           0.8090169943749475,
           0.3090169943749475,
           -0.30901699437494734,
           -0.8090169943749475
          ],
          [
           -0.8090169943749477,
           -1,
           -0.8090169943749473,
           -0.3090169943749472,
           0.3090169943749477,
           0.8090169943749476,
           1.0000000000000002,
           0.8090169943749472,
           0.30901699437494723,
           -0.3090169943749476,
           -0.8090169943749476,
           -1,
           -0.8090169943749475,
           -0.3090169943749474,
           0.3090169943749475,
           0.8090169943749475,
           1,
           0.8090169943749475,
           0.30901699437494745,
           -0.3090169943749474
          ],
          [
           -0.30901699437494784,
           -0.8090169943749477,
           -1.0000000000000002,
           -0.8090169943749472,
           -0.3090169943749471,
           0.30901699437494773,
           0.8090169943749477,
           1,
           0.8090169943749472,
           0.30901699437494723,
           -0.3090169943749476,
           -0.809016994374947,
           -1,
           -0.8090169943749475,
           -0.3090169943749473,
           0.3090169943749475,
           0.8090169943749475,
           1,
           0.8090169943749475,
           0.3090169943749475
          ],
          [
           0.309016994374947,
           -0.3090169943749479,
           -0.8090169943749478,
           -1,
           -0.8090169943749472,
           -0.3090169943749471,
           0.30901699437494784,
           0.8090169943749477,
           1,
           0.8090169943749473,
           0.30901699437494723,
           -0.3090169943749468,
           -0.8090169943749476,
           -1.0000000000000002,
           -0.8090169943749473,
           -0.30901699437494734,
           0.30901699437494745,
           0.8090169943749475,
           1,
           0.8090169943749476
          ],
          [
           0.8090169943749472,
           0.30901699437494706,
           -0.30901699437494784,
           -0.8090169943749478,
           -1.0000000000000002,
           -0.8090169943749473,
           -0.3090169943749471,
           0.3090169943749478,
           0.8090169943749477,
           1.0000000000000002,
           0.8090169943749473,
           0.3090169943749481,
           -0.3090169943749476,
           -0.8090169943749477,
           -1,
           -0.8090169943749475,
           -0.3090169943749474,
           0.3090169943749475,
           0.8090169943749476,
           1.0000000000000002
          ]
         ]
        }
       ],
       "layout": {
        "coloraxis": {
         "colorscale": [
          [
           0,
           "#0d0887"
          ],
          [
           0.1111111111111111,
           "#46039f"
          ],
          [
           0.2222222222222222,
           "#7201a8"
          ],
          [
           0.3333333333333333,
           "#9c179e"
          ],
          [
           0.4444444444444444,
           "#bd3786"
          ],
          [
           0.5555555555555556,
           "#d8576b"
          ],
          [
           0.6666666666666666,
           "#ed7953"
          ],
          [
           0.7777777777777778,
           "#fb9f3a"
          ],
          [
           0.8888888888888888,
           "#fdca26"
          ],
          [
           1,
           "#f0f921"
          ]
         ]
        },
        "template": {
         "data": {
          "bar": [
           {
            "error_x": {
             "color": "#2a3f5f"
            },
            "error_y": {
             "color": "#2a3f5f"
            },
            "marker": {
             "line": {
              "color": "#E5ECF6",
              "width": 0.5
             },
             "pattern": {
              "fillmode": "overlay",
              "size": 10,
              "solidity": 0.2
             }
            },
            "type": "bar"
           }
          ],
          "barpolar": [
           {
            "marker": {
             "line": {
              "color": "#E5ECF6",
              "width": 0.5
             },
             "pattern": {
              "fillmode": "overlay",
              "size": 10,
              "solidity": 0.2
             }
            },
            "type": "barpolar"
           }
          ],
          "carpet": [
           {
            "aaxis": {
             "endlinecolor": "#2a3f5f",
             "gridcolor": "white",
             "linecolor": "white",
             "minorgridcolor": "white",
             "startlinecolor": "#2a3f5f"
            },
            "baxis": {
             "endlinecolor": "#2a3f5f",
             "gridcolor": "white",
             "linecolor": "white",
             "minorgridcolor": "white",
             "startlinecolor": "#2a3f5f"
            },
            "type": "carpet"
           }
          ],
          "choropleth": [
           {
            "colorbar": {
             "outlinewidth": 0,
             "ticks": ""
            },
            "type": "choropleth"
           }
          ],
          "contour": [
           {
            "colorbar": {
             "outlinewidth": 0,
             "ticks": ""
            },
            "colorscale": [
             [
              0,
              "#0d0887"
             ],
             [
              0.1111111111111111,
              "#46039f"
             ],
             [
              0.2222222222222222,
              "#7201a8"
             ],
             [
              0.3333333333333333,
              "#9c179e"
             ],
             [
              0.4444444444444444,
              "#bd3786"
             ],
             [
              0.5555555555555556,
              "#d8576b"
             ],
             [
              0.6666666666666666,
              "#ed7953"
             ],
             [
              0.7777777777777778,
              "#fb9f3a"
             ],
             [
              0.8888888888888888,
              "#fdca26"
             ],
             [
              1,
              "#f0f921"
             ]
            ],
            "type": "contour"
           }
          ],
          "contourcarpet": [
           {
            "colorbar": {
             "outlinewidth": 0,
             "ticks": ""
            },
            "type": "contourcarpet"
           }
          ],
          "heatmap": [
           {
            "colorbar": {
             "outlinewidth": 0,
             "ticks": ""
            },
            "colorscale": [
             [
              0,
              "#0d0887"
             ],
             [
              0.1111111111111111,
              "#46039f"
             ],
             [
              0.2222222222222222,
              "#7201a8"
             ],
             [
              0.3333333333333333,
              "#9c179e"
             ],
             [
              0.4444444444444444,
              "#bd3786"
             ],
             [
              0.5555555555555556,
              "#d8576b"
             ],
             [
              0.6666666666666666,
              "#ed7953"
             ],
             [
              0.7777777777777778,
              "#fb9f3a"
             ],
             [
              0.8888888888888888,
              "#fdca26"
             ],
             [
              1,
              "#f0f921"
             ]
            ],
            "type": "heatmap"
           }
          ],
          "heatmapgl": [
           {
            "colorbar": {
             "outlinewidth": 0,
             "ticks": ""
            },
            "colorscale": [
             [
              0,
              "#0d0887"
             ],
             [
              0.1111111111111111,
              "#46039f"
             ],
             [
              0.2222222222222222,
              "#7201a8"
             ],
             [
              0.3333333333333333,
              "#9c179e"
             ],
             [
              0.4444444444444444,
              "#bd3786"
             ],
             [
              0.5555555555555556,
              "#d8576b"
             ],
             [
              0.6666666666666666,
              "#ed7953"
             ],
             [
              0.7777777777777778,
              "#fb9f3a"
             ],
             [
              0.8888888888888888,
              "#fdca26"
             ],
             [
              1,
              "#f0f921"
             ]
            ],
            "type": "heatmapgl"
           }
          ],
          "histogram": [
           {
            "marker": {
             "pattern": {
              "fillmode": "overlay",
              "size": 10,
              "solidity": 0.2
             }
            },
            "type": "histogram"
           }
          ],
          "histogram2d": [
           {
            "colorbar": {
             "outlinewidth": 0,
             "ticks": ""
            },
            "colorscale": [
             [
              0,
              "#0d0887"
             ],
             [
              0.1111111111111111,
              "#46039f"
             ],
             [
              0.2222222222222222,
              "#7201a8"
             ],
             [
              0.3333333333333333,
              "#9c179e"
             ],
             [
              0.4444444444444444,
              "#bd3786"
             ],
             [
              0.5555555555555556,
              "#d8576b"
             ],
             [
              0.6666666666666666,
              "#ed7953"
             ],
             [
              0.7777777777777778,
              "#fb9f3a"
             ],
             [
              0.8888888888888888,
              "#fdca26"
             ],
             [
              1,
              "#f0f921"
             ]
            ],
            "type": "histogram2d"
           }
          ],
          "histogram2dcontour": [
           {
            "colorbar": {
             "outlinewidth": 0,
             "ticks": ""
            },
            "colorscale": [
             [
              0,
              "#0d0887"
             ],
             [
              0.1111111111111111,
              "#46039f"
             ],
             [
              0.2222222222222222,
              "#7201a8"
             ],
             [
              0.3333333333333333,
              "#9c179e"
             ],
             [
              0.4444444444444444,
              "#bd3786"
             ],
             [
              0.5555555555555556,
              "#d8576b"
             ],
             [
              0.6666666666666666,
              "#ed7953"
             ],
             [
              0.7777777777777778,
              "#fb9f3a"
             ],
             [
              0.8888888888888888,
              "#fdca26"
             ],
             [
              1,
              "#f0f921"
             ]
            ],
            "type": "histogram2dcontour"
           }
          ],
          "mesh3d": [
           {
            "colorbar": {
             "outlinewidth": 0,
             "ticks": ""
            },
            "type": "mesh3d"
           }
          ],
          "parcoords": [
           {
            "line": {
             "colorbar": {
              "outlinewidth": 0,
              "ticks": ""
             }
            },
            "type": "parcoords"
           }
          ],
          "pie": [
           {
            "automargin": true,
            "type": "pie"
           }
          ],
          "scatter": [
           {
            "fillpattern": {
             "fillmode": "overlay",
             "size": 10,
             "solidity": 0.2
            },
            "type": "scatter"
           }
          ],
          "scatter3d": [
           {
            "line": {
             "colorbar": {
              "outlinewidth": 0,
              "ticks": ""
             }
            },
            "marker": {
             "colorbar": {
              "outlinewidth": 0,
              "ticks": ""
             }
            },
            "type": "scatter3d"
           }
          ],
          "scattercarpet": [
           {
            "marker": {
             "colorbar": {
              "outlinewidth": 0,
              "ticks": ""
             }
            },
            "type": "scattercarpet"
           }
          ],
          "scattergeo": [
           {
            "marker": {
             "colorbar": {
              "outlinewidth": 0,
              "ticks": ""
             }
            },
            "type": "scattergeo"
           }
          ],
          "scattergl": [
           {
            "marker": {
             "colorbar": {
              "outlinewidth": 0,
              "ticks": ""
             }
            },
            "type": "scattergl"
           }
          ],
          "scattermapbox": [
           {
            "marker": {
             "colorbar": {
              "outlinewidth": 0,
              "ticks": ""
             }
            },
            "type": "scattermapbox"
           }
          ],
          "scatterpolar": [
           {
            "marker": {
             "colorbar": {
              "outlinewidth": 0,
              "ticks": ""
             }
            },
            "type": "scatterpolar"
           }
          ],
          "scatterpolargl": [
           {
            "marker": {
             "colorbar": {
              "outlinewidth": 0,
              "ticks": ""
             }
            },
            "type": "scatterpolargl"
           }
          ],
          "scatterternary": [
           {
            "marker": {
             "colorbar": {
              "outlinewidth": 0,
              "ticks": ""
             }
            },
            "type": "scatterternary"
           }
          ],
          "surface": [
           {
            "colorbar": {
             "outlinewidth": 0,
             "ticks": ""
            },
            "colorscale": [
             [
              0,
              "#0d0887"
             ],
             [
              0.1111111111111111,
              "#46039f"
             ],
             [
              0.2222222222222222,
              "#7201a8"
             ],
             [
              0.3333333333333333,
              "#9c179e"
             ],
             [
              0.4444444444444444,
              "#bd3786"
             ],
             [
              0.5555555555555556,
              "#d8576b"
             ],
             [
              0.6666666666666666,
              "#ed7953"
             ],
             [
              0.7777777777777778,
              "#fb9f3a"
             ],
             [
              0.8888888888888888,
              "#fdca26"
             ],
             [
              1,
              "#f0f921"
             ]
            ],
            "type": "surface"
           }
          ],
          "table": [
           {
            "cells": {
             "fill": {
              "color": "#EBF0F8"
             },
             "line": {
              "color": "white"
             }
            },
            "header": {
             "fill": {
              "color": "#C8D4E3"
             },
             "line": {
              "color": "white"
             }
            },
            "type": "table"
           }
          ]
         },
         "layout": {
          "annotationdefaults": {
           "arrowcolor": "#2a3f5f",
           "arrowhead": 0,
           "arrowwidth": 1
          },
          "autotypenumbers": "strict",
          "coloraxis": {
           "colorbar": {
            "outlinewidth": 0,
            "ticks": ""
           }
          },
          "colorscale": {
           "diverging": [
            [
             0,
             "#8e0152"
            ],
            [
             0.1,
             "#c51b7d"
            ],
            [
             0.2,
             "#de77ae"
            ],
            [
             0.3,
             "#f1b6da"
            ],
            [
             0.4,
             "#fde0ef"
            ],
            [
             0.5,
             "#f7f7f7"
            ],
            [
             0.6,
             "#e6f5d0"
            ],
            [
             0.7,
             "#b8e186"
            ],
            [
             0.8,
             "#7fbc41"
            ],
            [
             0.9,
             "#4d9221"
            ],
            [
             1,
             "#276419"
            ]
           ],
           "sequential": [
            [
             0,
             "#0d0887"
            ],
            [
             0.1111111111111111,
             "#46039f"
            ],
            [
             0.2222222222222222,
             "#7201a8"
            ],
            [
             0.3333333333333333,
             "#9c179e"
            ],
            [
             0.4444444444444444,
             "#bd3786"
            ],
            [
             0.5555555555555556,
             "#d8576b"
            ],
            [
             0.6666666666666666,
             "#ed7953"
            ],
            [
             0.7777777777777778,
             "#fb9f3a"
            ],
            [
             0.8888888888888888,
             "#fdca26"
            ],
            [
             1,
             "#f0f921"
            ]
           ],
           "sequentialminus": [
            [
             0,
             "#0d0887"
            ],
            [
             0.1111111111111111,
             "#46039f"
            ],
            [
             0.2222222222222222,
             "#7201a8"
            ],
            [
             0.3333333333333333,
             "#9c179e"
            ],
            [
             0.4444444444444444,
             "#bd3786"
            ],
            [
             0.5555555555555556,
             "#d8576b"
            ],
            [
             0.6666666666666666,
             "#ed7953"
            ],
            [
             0.7777777777777778,
             "#fb9f3a"
            ],
            [
             0.8888888888888888,
             "#fdca26"
            ],
            [
             1,
             "#f0f921"
            ]
           ]
          },
          "colorway": [
           "#636efa",
           "#EF553B",
           "#00cc96",
           "#ab63fa",
           "#FFA15A",
           "#19d3f3",
           "#FF6692",
           "#B6E880",
           "#FF97FF",
           "#FECB52"
          ],
          "font": {
           "color": "#2a3f5f"
          },
          "geo": {
           "bgcolor": "white",
           "lakecolor": "white",
           "landcolor": "#E5ECF6",
           "showlakes": true,
           "showland": true,
           "subunitcolor": "white"
          },
          "hoverlabel": {
           "align": "left"
          },
          "hovermode": "closest",
          "mapbox": {
           "style": "light"
          },
          "paper_bgcolor": "white",
          "plot_bgcolor": "#E5ECF6",
          "polar": {
           "angularaxis": {
            "gridcolor": "white",
            "linecolor": "white",
            "ticks": ""
           },
           "bgcolor": "#E5ECF6",
           "radialaxis": {
            "gridcolor": "white",
            "linecolor": "white",
            "ticks": ""
           }
          },
          "scene": {
           "xaxis": {
            "backgroundcolor": "#E5ECF6",
            "gridcolor": "white",
            "gridwidth": 2,
            "linecolor": "white",
            "showbackground": true,
            "ticks": "",
            "zerolinecolor": "white"
           },
           "yaxis": {
            "backgroundcolor": "#E5ECF6",
            "gridcolor": "white",
            "gridwidth": 2,
            "linecolor": "white",
            "showbackground": true,
            "ticks": "",
            "zerolinecolor": "white"
           },
           "zaxis": {
            "backgroundcolor": "#E5ECF6",
            "gridcolor": "white",
            "gridwidth": 2,
            "linecolor": "white",
            "showbackground": true,
            "ticks": "",
            "zerolinecolor": "white"
           }
          },
          "shapedefaults": {
           "line": {
            "color": "#2a3f5f"
           }
          },
          "ternary": {
           "aaxis": {
            "gridcolor": "white",
            "linecolor": "white",
            "ticks": ""
           },
           "baxis": {
            "gridcolor": "white",
            "linecolor": "white",
            "ticks": ""
           },
           "bgcolor": "#E5ECF6",
           "caxis": {
            "gridcolor": "white",
            "linecolor": "white",
            "ticks": ""
           }
          },
          "title": {
           "x": 0.05
          },
          "xaxis": {
           "automargin": true,
           "gridcolor": "white",
           "linecolor": "white",
           "ticks": "",
           "title": {
            "standoff": 15
           },
           "zerolinecolor": "white",
           "zerolinewidth": 2
          },
          "yaxis": {
           "automargin": true,
           "gridcolor": "white",
           "linecolor": "white",
           "ticks": "",
           "title": {
            "standoff": 15
           },
           "zerolinecolor": "white",
           "zerolinewidth": 2
          }
         }
        },
        "title": {
         "text": "Periodic embedding similarity matrix"
        },
        "xaxis": {
         "anchor": "y",
         "constrain": "domain",
         "domain": [
          0,
          1
         ],
         "scaleanchor": "y"
        },
        "yaxis": {
         "anchor": "x",
         "autorange": "reversed",
         "constrain": "domain",
         "domain": [
          0,
          1
         ]
        }
       }
      }
     },
     "metadata": {},
     "output_type": "display_data"
    }
   ],
   "source": [
    "import plotly.express as px\n",
    "from math import sin, cos, tau\n",
    "\n",
    "# generate embedding\n",
    "embedding = []\n",
    "\n",
    "period = 10\n",
    "N = 2*period\n",
    "\n",
    "for x in range(N):\n",
    "    embedding.append(np.array([cos((tau*x)/period), sin((tau*x)/period)]))\n",
    "\n",
    "similarity = []\n",
    "\n",
    "for x in embedding:\n",
    "    row = []\n",
    "    for y in embedding:\n",
    "        row.append(np.dot(x, y)/(np.linalg.norm(x)*np.linalg.norm(y)))\n",
    "    similarity.append(row)\n",
    "\n",
    "figure = px.imshow(similarity, title=f\"Periodic embedding similarity matrix\")\n",
    "figure"
   ]
  },
  {
   "cell_type": "code",
   "execution_count": 30,
   "metadata": {},
   "outputs": [
    {
     "data": {
      "application/vnd.plotly.v1+json": {
       "config": {
        "plotlyServerURL": "https://plot.ly"
       },
       "data": [
        {
         "coloraxis": "coloraxis",
         "hovertemplate": "x: %{x}<br>y: %{y}<br>color: %{z}<extra></extra>",
         "name": "0",
         "type": "heatmap",
         "xaxis": "x",
         "yaxis": "y",
         "z": [
          [
           1,
           0.7507515549659729,
           0.23828928172588348,
           0.07430587708950043,
           -0.030962415039539337,
           0.081826351583004,
           0.010772214271128178,
           -0.10541597008705139,
           0.07214754074811935,
           -0.17308199405670166,
           -0.055761322379112244,
           -0.049890246242284775,
           -0.1303398311138153,
           -0.32726991176605225,
           -0.24823160469532013,
           -0.19206036627292633,
           -0.10968846827745438,
           -0.15628129243850708,
           -0.07039514929056168,
           0.07893060147762299,
           0.05086204409599304,
           -0.01807832531630993,
           0.05463414266705513,
           0.05804932862520218,
           0.0024615188594907522,
           -0.08076569437980652,
           0.027741769328713417,
           0.05766606703400612,
           0.01969427801668644,
           -0.08440505713224411,
           -0.01797066628932953,
           -0.03671128302812576,
           -0.05896294489502907,
           -0.046829141676425934,
           -0.04368152841925621,
           -0.04755469411611557,
           0.016032204031944275
          ],
          [
           0.7507515549659729,
           1,
           0.09642664343118668,
           0.21634283661842346,
           0.06378496438264847,
           -0.057466525584459305,
           -0.07343349605798721,
           0.018612895160913467,
           -0.12264986336231232,
           0.029060687869787216,
           -0.014431512914597988,
           -0.03803745284676552,
           -0.29400715231895447,
           -0.13393083214759827,
           -0.1860719472169876,
           -0.2814207673072815,
           -0.1422835737466812,
           -0.11900530755519867,
           0.1657625138759613,
           -0.06234067305922508,
           0.03305262327194214,
           0.017821988090872765,
           0.014557354152202606,
           0.060274433344602585,
           0.033211600035429,
           -0.07193189114332199,
           -0.010184972546994686,
           0.041574232280254364,
           0.0002899298269767314,
           -0.08648813515901566,
           -0.027967998757958412,
           -0.054795168340206146,
           -0.0733676478266716,
           -0.029681215062737465,
           -0.02554110251367092,
           -0.03452597185969353,
           0.03631000220775604
          ],
          [
           0.23828928172588348,
           0.09642664343118668,
           1.0000001192092896,
           0.7673485279083252,
           0.1985187828540802,
           0.19044305384159088,
           0.058856137096881866,
           -0.17648833990097046,
           -0.047502681612968445,
           -0.18119843304157257,
           -0.08005842566490173,
           -0.2223413735628128,
           0.10142891854047775,
           -0.031260356307029724,
           -0.23973245918750763,
           -0.04322938993573189,
           -0.21370862424373627,
           -0.22335666418075562,
           -0.2617696225643158,
           -0.1530884951353073,
           0.028079677373170853,
           -0.025378741323947906,
           -0.044533487409353256,
           -0.013263029977679253,
           0.004286304581910372,
           -0.032504379749298096,
           0.03649523854255676,
           0.0460708923637867,
           -0.002982871141284704,
           0.001242106663994491,
           -0.019336599856615067,
           -0.07283496111631393,
           -0.02705070935189724,
           -0.010896704159677029,
           -0.013637655414640903,
           -0.030262203887104988,
           -0.06238606199622154
          ],
          [
           0.07430587708950043,
           0.21634283661842346,
           0.7673485279083252,
           1,
           0.18455950915813446,
           0.17305874824523926,
           -0.17938077449798584,
           -0.019601531326770782,
           -0.15520697832107544,
           -0.040603816509246826,
           -0.14584825932979584,
           -0.10019335150718689,
           -0.06006168946623802,
           0.12323050945997238,
           -0.051282092928886414,
           -0.2211219221353531,
           -0.2551273703575134,
           -0.2267305850982666,
           -0.12202374637126923,
           -0.2635654807090759,
           0.052462849766016006,
           0.01356835849583149,
           -0.03331008553504944,
           -0.02526956982910633,
           -0.027341654524207115,
           -0.020337942987680435,
           0.02811887487769127,
           -0.013430827297270298,
           -0.05532347038388252,
           0.04160164296627045,
           -0.037043847143650055,
           -0.024528849869966507,
           -0.0586184598505497,
           -0.063423752784729,
           -0.029935112223029137,
           -0.00926919188350439,
           -0.0338311493396759
          ],
          [
           -0.030962415039539337,
           0.06378496438264847,
           0.1985187828540802,
           0.18455950915813446,
           1.0000001192092896,
           0.7112829685211182,
           0.23017562925815582,
           0.15108925104141235,
           -0.1590019166469574,
           -0.07230468839406967,
           -0.11125054210424423,
           -0.32469674944877625,
           -0.2490340769290924,
           -0.11868937313556671,
           -0.04421621933579445,
           0.05539998784661293,
           -0.04516209661960602,
           -0.2026890516281128,
           -0.09373611211776733,
           -0.2725309133529663,
           0.009168287739157677,
           -0.0544380284845829,
           0.023835979402065277,
           -0.013115598820149899,
           -0.01797330193221569,
           0.022313972935080528,
           0.0405326783657074,
           -0.0787409096956253,
           -0.013136100955307484,
           -0.028979847207665443,
           -0.043449513614177704,
           0.009977095760405064,
           -0.024876371026039124,
           0.005185187328606844,
           -0.019545046612620354,
           -0.005935655906796455,
           -0.028777414932847023
          ],
          [
           0.081826351583004,
           -0.057466525584459305,
           0.19044305384159088,
           0.17305874824523926,
           0.7112829685211182,
           0.9999999403953552,
           0.22664101421833038,
           0.19272878766059875,
           -0.05629436671733856,
           -0.09456972777843475,
           -0.3656466007232666,
           -0.09921583533287048,
           -0.12935759127140045,
           -0.29399433732032776,
           0.08015706390142441,
           -0.07790926843881607,
           -0.22636385262012482,
           -0.05647348240017891,
           -0.2757198214530945,
           -0.10658781230449677,
           0.021928129717707634,
           -0.024356314912438393,
           0.028632579371333122,
           -0.04202970117330551,
           -0.003894113702699542,
           -0.024631047621369362,
           -0.0023252880200743675,
           -0.07688086479902267,
           -0.04141507297754288,
           0.017660990357398987,
           -0.04608176276087761,
           0.05899016559123993,
           -0.03555025905370712,
           -0.053832098841667175,
           -0.030212489888072014,
           0.01965193822979927,
           -0.018162628635764122
          ],
          [
           0.010772214271128178,
           -0.07343349605798721,
           0.058856137096881866,
           -0.17938077449798584,
           0.23017562925815582,
           0.22664101421833038,
           0.9999998807907104,
           0.6869226098060608,
           0.18244294822216034,
           0.12438444048166275,
           -0.06303759664297104,
           -0.14231528341770172,
           -0.19937892258167267,
           -0.3092910647392273,
           -0.2888430953025818,
           -0.057483360171318054,
           -0.05933939665555954,
           0.008365899324417114,
           -0.23408474028110504,
           -0.09288186579942703,
           0.02851145900785923,
           -0.08822865784168243,
           -0.03395499289035797,
           -0.06947996467351913,
           0.0344487801194191,
           0.01095215231180191,
           0.030080271884799004,
           0.04219064489006996,
           0.016045060008764267,
           -0.011846989393234253,
           -0.035258375108242035,
           -0.08009026944637299,
           -0.031026653945446014,
           0.03307473659515381,
           -0.0009593875147402287,
           -0.03407956659793854,
           -0.09584636986255646
          ],
          [
           -0.10541597008705139,
           0.018612895160913467,
           -0.17648833990097046,
           -0.019601531326770782,
           0.15108925104141235,
           0.19272878766059875,
           0.6869226098060608,
           1,
           0.16178543865680695,
           0.17000970244407654,
           -0.17607207596302032,
           0.021840469911694527,
           -0.38047388195991516,
           -0.17403514683246613,
           -0.03740091994404793,
           -0.2913474440574646,
           0.03974313288927078,
           -0.0462498813867569,
           -0.13876499235630035,
           -0.18112432956695557,
           0.0047625284641981125,
           -0.023587927222251892,
           0.021304620429873466,
           -0.051404502242803574,
           0.013351728208363056,
           0.04247279837727547,
           0.005083164200186729,
           0.07604225724935532,
           -0.008861284703016281,
           0.014767283573746681,
           -0.04197519272565842,
           -0.0036184987984597683,
           -0.04237715154886246,
           -0.06654857099056244,
           -0.05289790406823158,
           -0.03511086478829384,
           0.010469600558280945
          ],
          [
           0.07214754074811935,
           -0.12264986336231232,
           -0.047502681612968445,
           -0.15520697832107544,
           -0.1590019166469574,
           -0.05629436671733856,
           0.18244294822216034,
           0.16178543865680695,
           0.9999998807907104,
           0.7021937966346741,
           0.21394938230514526,
           0.2089032679796219,
           -0.07681191712617874,
           -0.17475029826164246,
           -0.23791132867336273,
           -0.2073308825492859,
           0.007322662975639105,
           -0.18379928171634674,
           -0.17654578387737274,
           -0.002857909770682454,
           -0.02855728194117546,
           -0.10409823805093765,
           -0.032727304846048355,
           -0.03645827993750572,
           -0.04678284376859665,
           -0.017170574516057968,
           0.012334111146628857,
           0.006783223245292902,
           0.047287557274103165,
           0.03183772414922714,
           -0.06650027632713318,
           0.019042732194066048,
           -0.0027567429933696985,
           -0.016126124188303947,
           -0.04165211692452431,
           -0.04895658418536186,
           0.01864132471382618
          ],
          [
           -0.17308199405670166,
           0.029060687869787216,
           -0.18119843304157257,
           -0.040603816509246826,
           -0.07230468839406967,
           -0.09456972777843475,
           0.12438444048166275,
           0.17000970244407654,
           0.7021937966346741,
           0.9999999403953552,
           0.16051679849624634,
           0.18424303829669952,
           -0.18020081520080566,
           -0.047548603266477585,
           -0.1717265546321869,
           -0.26207584142684937,
           -0.17190858721733093,
           -0.012069644406437874,
           -0.02032535895705223,
           -0.14691928029060364,
           -0.022067219018936157,
           -0.11198940873146057,
           -0.0419931560754776,
           -0.05382348597049713,
           -0.0526159331202507,
           -0.020052947103977203,
           -0.010445162653923035,
           0.029946966096758842,
           0.012827771715819836,
           -0.011049092747271061,
           -0.00959059689193964,
           0.00959180761128664,
           -0.016431249678134918,
           0.02652093768119812,
           -0.009935221634805202,
           -0.05112265422940254,
           -0.027242451906204224
          ],
          [
           -0.055761322379112244,
           -0.014431512914597988,
           -0.08005842566490173,
           -0.14584825932979584,
           -0.11125054210424423,
           -0.3656466007232666,
           -0.06303759664297104,
           -0.17607207596302032,
           0.21394938230514526,
           0.16051679849624634,
           1,
           0.6648305654525757,
           0.1799687147140503,
           0.18909470736980438,
           -0.25960785150527954,
           0.0028533432632684708,
           -0.07699967920780182,
           -0.25271591544151306,
           -0.007971678860485554,
           -0.10227369517087936,
           -0.04878627508878708,
           -0.07639114558696747,
           -0.0357217937707901,
           -0.027836624532938004,
           -0.0463244803249836,
           -0.03316706046462059,
           0.023580487817525864,
           0.008529387414455414,
           0.011349108070135117,
           -0.044660091400146484,
           -0.03950690105557442,
           -0.030610134825110435,
           -0.027517348527908325,
           0.050788186490535736,
           0.016113948076963425,
           -0.06688215583562851,
           -0.013597586192190647
          ],
          [
           -0.049890246242284775,
           -0.03803745284676552,
           -0.2223413735628128,
           -0.10019335150718689,
           -0.32469674944877625,
           -0.09921583533287048,
           -0.14231528341770172,
           0.021840469911694527,
           0.2089032679796219,
           0.18424303829669952,
           0.6648305654525757,
           0.9999999403953552,
           0.22469650208950043,
           0.13271255791187286,
           -0.018444020301103592,
           -0.23656557500362396,
           -0.24502450227737427,
           -0.08857673406600952,
           -0.09174153953790665,
           0.006250952370464802,
           -0.020276056602597237,
           -0.07901755720376968,
           -0.03459405153989792,
           -0.005456034559756517,
           -0.015278894454240799,
           -0.030749915167689323,
           -0.0528123639523983,
           -0.002771842060610652,
           -0.03168973699212074,
           -0.014362925663590431,
           -0.08630727231502533,
           -0.033341098576784134,
           -0.05067326873540878,
           -0.06615223735570908,
           -0.04306568577885628,
           -0.06336881965398788,
           0.034598447382450104
          ],
          [
           -0.1303398311138153,
           -0.29400715231895447,
           0.10142891854047775,
           -0.06006168946623802,
           -0.2490340769290924,
           -0.12935759127140045,
           -0.19937892258167267,
           -0.38047388195991516,
           -0.07681191712617874,
           -0.18020081520080566,
           0.1799687147140503,
           0.22469650208950043,
           0.9999999403953552,
           0.7385726571083069,
           0.13975505530834198,
           0.2158532589673996,
           -0.12353680282831192,
           -0.032346002757549286,
           -0.1820041984319687,
           0.0054278564639389515,
           0.016731854528188705,
           -0.08132683485746384,
           -0.06268463283777237,
           0.00630912883207202,
           0.03576719015836716,
           -0.02854880690574646,
           -0.013025905936956406,
           -0.12413367629051208,
           -0.043895430862903595,
           -0.028883546590805054,
           -0.027894798666238785,
           -0.029257377609610558,
           -0.03938791900873184,
           -0.018177522346377373,
           -0.036497119814157486,
           -0.046572159975767136,
           -0.06372565776109695
          ],
          [
           -0.32726991176605225,
           -0.13393083214759827,
           -0.031260356307029724,
           0.12323050945997238,
           -0.11868937313556671,
           -0.29399433732032776,
           -0.3092910647392273,
           -0.17403514683246613,
           -0.17475029826164246,
           -0.047548603266477585,
           0.18909470736980438,
           0.13271255791187286,
           0.7385726571083069,
           0.9999999403953552,
           0.21345186233520508,
           0.13109762966632843,
           -0.024251243099570274,
           -0.12703019380569458,
           0.029465220868587494,
           -0.1625792533159256,
           -0.005233572795987129,
           -0.0354769192636013,
           -0.08568362891674042,
           0.010470159351825714,
           0.06179351732134819,
           0.01787475310266018,
           -0.006297188811004162,
           -0.14444106817245483,
           0.001014768029563129,
           -0.004177131690084934,
           -0.05184940993785858,
           -0.04492245987057686,
           -0.05245840921998024,
           -0.03106367029249668,
           -0.061687301844358444,
           -0.042710524052381516,
           -0.02318069525063038
          ],
          [
           -0.24823160469532013,
           -0.1860719472169876,
           -0.23973245918750763,
           -0.051282092928886414,
           -0.04421621933579445,
           0.08015706390142441,
           -0.2888430953025818,
           -0.03740091994404793,
           -0.23791132867336273,
           -0.1717265546321869,
           -0.25960785150527954,
           -0.018444020301103592,
           0.13975505530834198,
           0.21345186233520508,
           0.9999999403953552,
           0.6670572757720947,
           0.12785829603672028,
           0.14760775864124298,
           0.01951002888381481,
           -0.02044229954481125,
           -0.02786143124103546,
           -0.05119452252984047,
           -0.06853742897510529,
           -0.003551044501364231,
           -0.09570466727018356,
           -0.02660622075200081,
           -0.045395854860544205,
           0.005562619771808386,
           -0.060973744839429855,
           -0.013402439653873444,
           -0.02792716585099697,
           0.050877928733825684,
           -0.025312108919024467,
           -0.057848360389471054,
           -0.08413958549499512,
           -0.028837624937295914,
           0.10809210687875748
          ],
          [
           -0.19206036627292633,
           -0.2814207673072815,
           -0.04322938993573189,
           -0.2211219221353531,
           0.05539998784661293,
           -0.07790926843881607,
           -0.057483360171318054,
           -0.2913474440574646,
           -0.2073308825492859,
           -0.26207584142684937,
           0.0028533432632684708,
           -0.23656557500362396,
           0.2158532589673996,
           0.13109762966632843,
           0.6670572757720947,
           1.0000001192092896,
           0.18981601297855377,
           0.08160484582185745,
           -0.010364104062318802,
           -0.0010062393266707659,
           -0.005630402360111475,
           0.01881285011768341,
           -0.09157371520996094,
           -0.01253880001604557,
           -0.10321296751499176,
           -0.012528634630143642,
           0.03173597902059555,
           0.03679584711790085,
           0.023752188310027122,
           -0.039211902767419815,
           -0.04090512543916702,
           0.002180570736527443,
           0.007790355011820793,
           0.019149910658597946,
           -0.04957868158817291,
           -0.07303578406572342,
           0.0006505917990580201
          ],
          [
           -0.10968846827745438,
           -0.1422835737466812,
           -0.21370862424373627,
           -0.2551273703575134,
           -0.04516209661960602,
           -0.22636385262012482,
           -0.05933939665555954,
           0.03974313288927078,
           0.007322662975639105,
           -0.17190858721733093,
           -0.07699967920780182,
           -0.24502450227737427,
           -0.12353680282831192,
           -0.024251243099570274,
           0.12785829603672028,
           0.18981601297855377,
           1,
           0.5894816517829895,
           0.21303051710128784,
           0.1707259714603424,
           -0.007900504395365715,
           -0.006780996453016996,
           -0.0075438497588038445,
           0.009810492396354675,
           -0.02373805083334446,
           -0.04877181351184845,
           0.027756353840231895,
           -0.07617717236280441,
           -0.018791595473885536,
           -0.0015593316638842225,
           -0.007206073962152004,
           -0.05340280383825302,
           0.00766459945589304,
           -0.009702795185148716,
           -0.037828728556632996,
           -0.048199959099292755,
           0.014805984683334827
          ],
          [
           -0.15628129243850708,
           -0.11900530755519867,
           -0.22335666418075562,
           -0.2267305850982666,
           -0.2026890516281128,
           -0.05647348240017891,
           0.008365899324417114,
           -0.0462498813867569,
           -0.18379928171634674,
           -0.012069644406437874,
           -0.25271591544151306,
           -0.08857673406600952,
           -0.032346002757549286,
           -0.12703019380569458,
           0.14760775864124298,
           0.08160484582185745,
           0.5894816517829895,
           1,
           0.1479451209306717,
           0.22426137328147888,
           0.0075515746138989925,
           -0.022378770634531975,
           -0.004766420461237431,
           -0.022343160584568977,
           -0.00572684220969677,
           -0.05570506304502487,
           -0.007156683597713709,
           -0.09929411858320236,
           -0.04352379962801933,
           -0.0018386937445029616,
           -0.04078827053308487,
           -0.07351744174957275,
           -0.0699915885925293,
           -0.026944229379296303,
           0.004062052350491285,
           -0.028914736583828926,
           -0.06472204625606537
          ],
          [
           -0.07039514929056168,
           0.1657625138759613,
           -0.2617696225643158,
           -0.12202374637126923,
           -0.09373611211776733,
           -0.2757198214530945,
           -0.23408474028110504,
           -0.13876499235630035,
           -0.17654578387737274,
           -0.02032535895705223,
           -0.007971678860485554,
           -0.09174153953790665,
           -0.1820041984319687,
           0.029465220868587494,
           0.01951002888381481,
           -0.010364104062318802,
           0.21303051710128784,
           0.1479451209306717,
           0.9999998807907104,
           0.7569137811660767,
           0.07284723222255707,
           -0.0014983913861215115,
           -0.03640202060341835,
           -0.02860158309340477,
           -0.05737143009901047,
           0.03264249488711357,
           -0.019191399216651917,
           0.009297315962612629,
           -0.037683673202991486,
           -0.032233826816082,
           -0.079749695956707,
           -0.006739291828125715,
           0.03216974064707756,
           0.029007146134972572,
           -0.000996443792246282,
           -0.05585324019193649,
           0.030198531225323677
          ],
          [
           0.07893060147762299,
           -0.06234067305922508,
           -0.1530884951353073,
           -0.2635654807090759,
           -0.2725309133529663,
           -0.10658781230449677,
           -0.09288186579942703,
           -0.18112432956695557,
           -0.002857909770682454,
           -0.14691928029060364,
           -0.10227369517087936,
           0.006250952370464802,
           0.0054278564639389515,
           -0.1625792533159256,
           -0.02044229954481125,
           -0.0010062393266707659,
           0.1707259714603424,
           0.22426137328147888,
           0.7569137811660767,
           0.9999998807907104,
           0.05326896533370018,
           -0.06026170030236244,
           -0.04833739623427391,
           -0.054374538362026215,
           -0.03931630030274391,
           0.023046543821692467,
           -0.03575218468904495,
           -0.006062240805476904,
           -0.022458147257566452,
           0.01653301902115345,
           -0.10301636159420013,
           -0.0451151542365551,
           0.0623471699655056,
           -0.003013590117916465,
           0.017284108325839043,
           -0.06395946443080902,
           -0.03335832804441452
          ],
          [
           0.05086204409599304,
           0.03305262327194214,
           0.028079677373170853,
           0.052462849766016006,
           0.009168287739157677,
           0.021928129717707634,
           0.02851145900785923,
           0.0047625284641981125,
           -0.02855728194117546,
           -0.022067219018936157,
           -0.04878627508878708,
           -0.020276056602597237,
           0.016731854528188705,
           -0.005233572795987129,
           -0.02786143124103546,
           -0.005630402360111475,
           -0.007900504395365715,
           0.0075515746138989925,
           0.07284723222255707,
           0.05326896533370018,
           0.9999999403953552,
           0.006733722519129515,
           0.03814593330025673,
           -0.009048373438417912,
           0.030674869194626808,
           0.10848670452833176,
           0.08039779216051102,
           -0.017176225781440735,
           0.1068463921546936,
           0.12850232422351837,
           0.14449532330036163,
           0.13002635538578033,
           -0.08392513543367386,
           -0.008043300360441208,
           -0.18983131647109985,
           -0.07504195719957352,
           -0.11601275205612183
          ],
          [
           -0.01807832531630993,
           0.017821988090872765,
           -0.025378741323947906,
           0.01356835849583149,
           -0.0544380284845829,
           -0.024356314912438393,
           -0.08822865784168243,
           -0.023587927222251892,
           -0.10409823805093765,
           -0.11198940873146057,
           -0.07639114558696747,
           -0.07901755720376968,
           -0.08132683485746384,
           -0.0354769192636013,
           -0.05119452252984047,
           0.01881285011768341,
           -0.006780996453016996,
           -0.022378770634531975,
           -0.0014983913861215115,
           -0.06026170030236244,
           0.006733722519129515,
           1,
           0.1455080658197403,
           -0.08176089823246002,
           0.07692362368106842,
           -0.10040595382452011,
           0.07569102942943573,
           -0.05495082959532738,
           0.01325117889791727,
           0.0266069695353508,
           -0.008622930385172367,
           -0.0768701508641243,
           -0.010432111099362373,
           -0.10339508205652237,
           0.013718516565859318,
           -0.15591834485530853,
           -0.07856285572052002
          ],
          [
           0.05463414266705513,
           0.014557354152202606,
           -0.044533487409353256,
           -0.03331008553504944,
           0.023835979402065277,
           0.028632579371333122,
           -0.03395499289035797,
           0.021304620429873466,
           -0.032727304846048355,
           -0.0419931560754776,
           -0.0357217937707901,
           -0.03459405153989792,
           -0.06268463283777237,
           -0.08568362891674042,
           -0.06853742897510529,
           -0.09157371520996094,
           -0.0075438497588038445,
           -0.004766420461237431,
           -0.03640202060341835,
           -0.04833739623427391,
           0.03814593330025673,
           0.1455080658197403,
           1,
           0.10539358854293823,
           -0.013409430161118507,
           -0.20655207335948944,
           -0.09818486124277115,
           0.10357045382261276,
           -0.04250648617744446,
           -0.14631551504135132,
           -0.1572273224592209,
           0.028749799355864525,
           0.031814124435186386,
           -0.17153231799602509,
           0.09620702266693115,
           -0.09017325937747955,
           -0.18086867034435272
          ],
          [
           0.05804932862520218,
           0.060274433344602585,
           -0.013263029977679253,
           -0.02526956982910633,
           -0.013115598820149899,
           -0.04202970117330551,
           -0.06947996467351913,
           -0.051404502242803574,
           -0.03645827993750572,
           -0.05382348597049713,
           -0.027836624532938004,
           -0.005456034559756517,
           0.00630912883207202,
           0.010470159351825714,
           -0.003551044501364231,
           -0.01253880001604557,
           0.009810492396354675,
           -0.022343160584568977,
           -0.02860158309340477,
           -0.054374538362026215,
           -0.009048373438417912,
           -0.08176089823246002,
           0.10539358854293823,
           0.9999998807907104,
           -0.016743535175919533,
           0.06555662304162979,
           -0.10673310607671738,
           -0.13214698433876038,
           0.019557571038603783,
           0.18356743454933167,
           0.03306417912244797,
           -0.062420349568128586,
           -0.08553627878427505,
           -0.015176068991422653,
           -0.2587302029132843,
           -0.08003634214401245,
           -0.035236284136772156
          ],
          [
           0.0024615188594907522,
           0.033211600035429,
           0.004286304581910372,
           -0.027341654524207115,
           -0.01797330193221569,
           -0.003894113702699542,
           0.0344487801194191,
           0.013351728208363056,
           -0.04678284376859665,
           -0.0526159331202507,
           -0.0463244803249836,
           -0.015278894454240799,
           0.03576719015836716,
           0.06179351732134819,
           -0.09570466727018356,
           -0.10321296751499176,
           -0.02373805083334446,
           -0.00572684220969677,
           -0.05737143009901047,
           -0.03931630030274391,
           0.030674869194626808,
           0.07692362368106842,
           -0.013409430161118507,
           -0.016743535175919533,
           1.0000001192092896,
           -0.26029908657073975,
           -0.05970349535346031,
           -0.044903289526700974,
           0.015650998800992966,
           -0.19766931235790253,
           0.12057849019765854,
           0.011656106449663639,
           -0.10241043567657471,
           0.15290606021881104,
           -0.013212579302489758,
           0.04720928147435188,
           -0.020999852567911148
          ],
          [
           -0.08076569437980652,
           -0.07193189114332199,
           -0.032504379749298096,
           -0.020337942987680435,
           0.022313972935080528,
           -0.024631047621369362,
           0.01095215231180191,
           0.04247279837727547,
           -0.017170574516057968,
           -0.020052947103977203,
           -0.03316706046462059,
           -0.030749915167689323,
           -0.02854880690574646,
           0.01787475310266018,
           -0.02660622075200081,
           -0.012528634630143642,
           -0.04877181351184845,
           -0.05570506304502487,
           0.03264249488711357,
           0.023046543821692467,
           0.10848670452833176,
           -0.10040595382452011,
           -0.20655207335948944,
           0.06555662304162979,
           -0.26029908657073975,
           1.0000001192092896,
           0.0804256796836853,
           -0.02334008552134037,
           -0.0717078447341919,
           0.10817399621009827,
           -0.014543957076966763,
           -0.07404163479804993,
           -0.12792982161045074,
           -0.012422805652022362,
           -0.23751726746559143,
           0.11368343979120255,
           -0.03489250689744949
          ],
          [
           0.027741769328713417,
           -0.010184972546994686,
           0.03649523854255676,
           0.02811887487769127,
           0.0405326783657074,
           -0.0023252880200743675,
           0.030080271884799004,
           0.005083164200186729,
           0.012334111146628857,
           -0.010445162653923035,
           0.023580487817525864,
           -0.0528123639523983,
           -0.013025905936956406,
           -0.006297188811004162,
           -0.045395854860544205,
           0.03173597902059555,
           0.027756353840231895,
           -0.007156683597713709,
           -0.019191399216651917,
           -0.03575218468904495,
           0.08039779216051102,
           0.07569102942943573,
           -0.09818486124277115,
           -0.10673310607671738,
           -0.05970349535346031,
           0.0804256796836853,
           1.0000001192092896,
           0.19172117114067078,
           -0.017542550340294838,
           0.1158217117190361,
           0.07745064049959183,
           -0.028077440336346626,
           -0.17331933975219727,
           -0.1895652413368225,
           -0.19755373895168304,
           -0.056633248925209045,
           0.15433278679847717
          ],
          [
           0.05766606703400612,
           0.041574232280254364,
           0.0460708923637867,
           -0.013430827297270298,
           -0.0787409096956253,
           -0.07688086479902267,
           0.04219064489006996,
           0.07604225724935532,
           0.006783223245292902,
           0.029946966096758842,
           0.008529387414455414,
           -0.002771842060610652,
           -0.12413367629051208,
           -0.14444106817245483,
           0.005562619771808386,
           0.03679584711790085,
           -0.07617717236280441,
           -0.09929411858320236,
           0.009297315962612629,
           -0.006062240805476904,
           -0.017176225781440735,
           -0.05495082959532738,
           0.10357045382261276,
           -0.13214698433876038,
           -0.044903289526700974,
           -0.02334008552134037,
           0.19172117114067078,
           0.9999999403953552,
           0.16337142884731293,
           -0.05740347132086754,
           0.003951601218432188,
           -0.02941257134079933,
           0.1298060566186905,
           -0.11773987114429474,
           0.016634158790111542,
           0.08117540925741196,
           0.08364754915237427
          ],
          [
           0.01969427801668644,
           0.0002899298269767314,
           -0.002982871141284704,
           -0.05532347038388252,
           -0.013136100955307484,
           -0.04141507297754288,
           0.016045060008764267,
           -0.008861284703016281,
           0.047287557274103165,
           0.012827771715819836,
           0.011349108070135117,
           -0.03168973699212074,
           -0.043895430862903595,
           0.001014768029563129,
           -0.060973744839429855,
           0.023752188310027122,
           -0.018791595473885536,
           -0.04352379962801933,
           -0.037683673202991486,
           -0.022458147257566452,
           0.1068463921546936,
           0.01325117889791727,
           -0.04250648617744446,
           0.019557571038603783,
           0.015650998800992966,
           -0.0717078447341919,
           -0.017542550340294838,
           0.16337142884731293,
           1.0000001192092896,
           0.1640082150697708,
           -0.05182655155658722,
           0.05327321216464043,
           0.22003716230392456,
           -0.28998520970344543,
           -0.03602946177124977,
           0.08752083033323288,
           0.01936997100710869
          ],
          [
           -0.08440505713224411,
           -0.08648813515901566,
           0.001242106663994491,
           0.04160164296627045,
           -0.028979847207665443,
           0.017660990357398987,
           -0.011846989393234253,
           0.014767283573746681,
           0.03183772414922714,
           -0.011049092747271061,
           -0.044660091400146484,
           -0.014362925663590431,
           -0.028883546590805054,
           -0.004177131690084934,
           -0.013402439653873444,
           -0.039211902767419815,
           -0.0015593316638842225,
           -0.0018386937445029616,
           -0.032233826816082,
           0.01653301902115345,
           0.12850232422351837,
           0.0266069695353508,
           -0.14631551504135132,
           0.18356743454933167,
           -0.19766931235790253,
           0.10817399621009827,
           0.1158217117190361,
           -0.05740347132086754,
           0.1640082150697708,
           1.0000001192092896,
           0.011648804880678654,
           -0.042293623089790344,
           -0.2557013928890228,
           0.06932906061410904,
           0.0041618370451033115,
           0.012197964824736118,
           0.004124150611460209
          ],
          [
           -0.01797066628932953,
           -0.027967998757958412,
           -0.019336599856615067,
           -0.037043847143650055,
           -0.043449513614177704,
           -0.04608176276087761,
           -0.035258375108242035,
           -0.04197519272565842,
           -0.06650027632713318,
           -0.00959059689193964,
           -0.03950690105557442,
           -0.08630727231502533,
           -0.027894798666238785,
           -0.05184940993785858,
           -0.02792716585099697,
           -0.04090512543916702,
           -0.007206073962152004,
           -0.04078827053308487,
           -0.079749695956707,
           -0.10301636159420013,
           0.14449532330036163,
           -0.008622930385172367,
           -0.1572273224592209,
           0.03306417912244797,
           0.12057849019765854,
           -0.014543957076966763,
           0.07745064049959183,
           0.003951601218432188,
           -0.05182655155658722,
           0.011648804880678654,
           0.9999999403953552,
           0.1684851348400116,
           -0.05252990871667862,
           0.03973330929875374,
           -0.21698950231075287,
           0.08661475032567978,
           0.003482906613498926
          ],
          [
           -0.03671128302812576,
           -0.054795168340206146,
           -0.07283496111631393,
           -0.024528849869966507,
           0.009977095760405064,
           0.05899016559123993,
           -0.08009026944637299,
           -0.0036184987984597683,
           0.019042732194066048,
           0.00959180761128664,
           -0.030610134825110435,
           -0.033341098576784134,
           -0.029257377609610558,
           -0.04492245987057686,
           0.050877928733825684,
           0.002180570736527443,
           -0.05340280383825302,
           -0.07351744174957275,
           -0.006739291828125715,
           -0.0451151542365551,
           0.13002635538578033,
           -0.0768701508641243,
           0.028749799355864525,
           -0.062420349568128586,
           0.011656106449663639,
           -0.07404163479804993,
           -0.028077440336346626,
           -0.02941257134079933,
           0.05327321216464043,
           -0.042293623089790344,
           0.1684851348400116,
           1.0000001192092896,
           -0.09694551676511765,
           -0.05939578264951706,
           -0.01582271233201027,
           0.021870777010917664,
           0.007177236024290323
          ],
          [
           -0.05896294489502907,
           -0.0733676478266716,
           -0.02705070935189724,
           -0.0586184598505497,
           -0.024876371026039124,
           -0.03555025905370712,
           -0.031026653945446014,
           -0.04237715154886246,
           -0.0027567429933696985,
           -0.016431249678134918,
           -0.027517348527908325,
           -0.05067326873540878,
           -0.03938791900873184,
           -0.05245840921998024,
           -0.025312108919024467,
           0.007790355011820793,
           0.00766459945589304,
           -0.0699915885925293,
           0.03216974064707756,
           0.0623471699655056,
           -0.08392513543367386,
           -0.010432111099362373,
           0.031814124435186386,
           -0.08553627878427505,
           -0.10241043567657471,
           -0.12792982161045074,
           -0.17331933975219727,
           0.1298060566186905,
           0.22003716230392456,
           -0.2557013928890228,
           -0.05252990871667862,
           -0.09694551676511765,
           1,
           -0.06289619207382202,
           0.24256843328475952,
           0.16008464992046356,
           0.1711493879556656
          ],
          [
           -0.046829141676425934,
           -0.029681215062737465,
           -0.010896704159677029,
           -0.063423752784729,
           0.005185187328606844,
           -0.053832098841667175,
           0.03307473659515381,
           -0.06654857099056244,
           -0.016126124188303947,
           0.02652093768119812,
           0.050788186490535736,
           -0.06615223735570908,
           -0.018177522346377373,
           -0.03106367029249668,
           -0.057848360389471054,
           0.019149910658597946,
           -0.009702795185148716,
           -0.026944229379296303,
           0.029007146134972572,
           -0.003013590117916465,
           -0.008043300360441208,
           -0.10339508205652237,
           -0.17153231799602509,
           -0.015176068991422653,
           0.15290606021881104,
           -0.012422805652022362,
           -0.1895652413368225,
           -0.11773987114429474,
           -0.28998520970344543,
           0.06932906061410904,
           0.03973330929875374,
           -0.05939578264951706,
           -0.06289619207382202,
           1,
           0.2765778601169586,
           -0.04834401607513428,
           0.10228177905082703
          ],
          [
           -0.04368152841925621,
           -0.02554110251367092,
           -0.013637655414640903,
           -0.029935112223029137,
           -0.019545046612620354,
           -0.030212489888072014,
           -0.0009593875147402287,
           -0.05289790406823158,
           -0.04165211692452431,
           -0.009935221634805202,
           0.016113948076963425,
           -0.04306568577885628,
           -0.036497119814157486,
           -0.061687301844358444,
           -0.08413958549499512,
           -0.04957868158817291,
           -0.037828728556632996,
           0.004062052350491285,
           -0.000996443792246282,
           0.017284108325839043,
           -0.18983131647109985,
           0.013718516565859318,
           0.09620702266693115,
           -0.2587302029132843,
           -0.013212579302489758,
           -0.23751726746559143,
           -0.19755373895168304,
           0.016634158790111542,
           -0.03602946177124977,
           0.0041618370451033115,
           -0.21698950231075287,
           -0.01582271233201027,
           0.24256843328475952,
           0.2765778601169586,
           1.0000001192092896,
           0.13384288549423218,
           0.0331067256629467
          ],
          [
           -0.04755469411611557,
           -0.03452597185969353,
           -0.030262203887104988,
           -0.00926919188350439,
           -0.005935655906796455,
           0.01965193822979927,
           -0.03407956659793854,
           -0.03511086478829384,
           -0.04895658418536186,
           -0.05112265422940254,
           -0.06688215583562851,
           -0.06336881965398788,
           -0.046572159975767136,
           -0.042710524052381516,
           -0.028837624937295914,
           -0.07303578406572342,
           -0.048199959099292755,
           -0.028914736583828926,
           -0.05585324019193649,
           -0.06395946443080902,
           -0.07504195719957352,
           -0.15591834485530853,
           -0.09017325937747955,
           -0.08003634214401245,
           0.04720928147435188,
           0.11368343979120255,
           -0.056633248925209045,
           0.08117540925741196,
           0.08752083033323288,
           0.012197964824736118,
           0.08661475032567978,
           0.021870777010917664,
           0.16008464992046356,
           -0.04834401607513428,
           0.13384288549423218,
           1,
           -0.07236890494823456
          ],
          [
           0.016032204031944275,
           0.03631000220775604,
           -0.06238606199622154,
           -0.0338311493396759,
           -0.028777414932847023,
           -0.018162628635764122,
           -0.09584636986255646,
           0.010469600558280945,
           0.01864132471382618,
           -0.027242451906204224,
           -0.013597586192190647,
           0.034598447382450104,
           -0.06372565776109695,
           -0.02318069525063038,
           0.10809210687875748,
           0.0006505917990580201,
           0.014805984683334827,
           -0.06472204625606537,
           0.030198531225323677,
           -0.03335832804441452,
           -0.11601275205612183,
           -0.07856285572052002,
           -0.18086867034435272,
           -0.035236284136772156,
           -0.020999852567911148,
           -0.03489250689744949,
           0.15433278679847717,
           0.08364754915237427,
           0.01936997100710869,
           0.004124150611460209,
           0.003482906613498926,
           0.007177236024290323,
           0.1711493879556656,
           0.10228177905082703,
           0.0331067256629467,
           -0.07236890494823456,
           1
          ]
         ]
        }
       ],
       "layout": {
        "autosize": false,
        "coloraxis": {
         "colorscale": [
          [
           0,
           "rgb(12,51,131)"
          ],
          [
           0.25,
           "rgb(10,136,186)"
          ],
          [
           0.5,
           "rgb(242,211,56)"
          ],
          [
           0.75,
           "rgb(242,143,56)"
          ],
          [
           1,
           "rgb(217,30,30)"
          ]
         ],
         "showscale": false
        },
        "height": 1000,
        "margin": {
         "b": 0,
         "l": 0,
         "pad": 0,
         "r": 0,
         "t": 0
        },
        "template": {
         "data": {
          "bar": [
           {
            "error_x": {
             "color": "#2a3f5f"
            },
            "error_y": {
             "color": "#2a3f5f"
            },
            "marker": {
             "line": {
              "color": "#E5ECF6",
              "width": 0.5
             },
             "pattern": {
              "fillmode": "overlay",
              "size": 10,
              "solidity": 0.2
             }
            },
            "type": "bar"
           }
          ],
          "barpolar": [
           {
            "marker": {
             "line": {
              "color": "#E5ECF6",
              "width": 0.5
             },
             "pattern": {
              "fillmode": "overlay",
              "size": 10,
              "solidity": 0.2
             }
            },
            "type": "barpolar"
           }
          ],
          "carpet": [
           {
            "aaxis": {
             "endlinecolor": "#2a3f5f",
             "gridcolor": "white",
             "linecolor": "white",
             "minorgridcolor": "white",
             "startlinecolor": "#2a3f5f"
            },
            "baxis": {
             "endlinecolor": "#2a3f5f",
             "gridcolor": "white",
             "linecolor": "white",
             "minorgridcolor": "white",
             "startlinecolor": "#2a3f5f"
            },
            "type": "carpet"
           }
          ],
          "choropleth": [
           {
            "colorbar": {
             "outlinewidth": 0,
             "ticks": ""
            },
            "type": "choropleth"
           }
          ],
          "contour": [
           {
            "colorbar": {
             "outlinewidth": 0,
             "ticks": ""
            },
            "colorscale": [
             [
              0,
              "#0d0887"
             ],
             [
              0.1111111111111111,
              "#46039f"
             ],
             [
              0.2222222222222222,
              "#7201a8"
             ],
             [
              0.3333333333333333,
              "#9c179e"
             ],
             [
              0.4444444444444444,
              "#bd3786"
             ],
             [
              0.5555555555555556,
              "#d8576b"
             ],
             [
              0.6666666666666666,
              "#ed7953"
             ],
             [
              0.7777777777777778,
              "#fb9f3a"
             ],
             [
              0.8888888888888888,
              "#fdca26"
             ],
             [
              1,
              "#f0f921"
             ]
            ],
            "type": "contour"
           }
          ],
          "contourcarpet": [
           {
            "colorbar": {
             "outlinewidth": 0,
             "ticks": ""
            },
            "type": "contourcarpet"
           }
          ],
          "heatmap": [
           {
            "colorbar": {
             "outlinewidth": 0,
             "ticks": ""
            },
            "colorscale": [
             [
              0,
              "#0d0887"
             ],
             [
              0.1111111111111111,
              "#46039f"
             ],
             [
              0.2222222222222222,
              "#7201a8"
             ],
             [
              0.3333333333333333,
              "#9c179e"
             ],
             [
              0.4444444444444444,
              "#bd3786"
             ],
             [
              0.5555555555555556,
              "#d8576b"
             ],
             [
              0.6666666666666666,
              "#ed7953"
             ],
             [
              0.7777777777777778,
              "#fb9f3a"
             ],
             [
              0.8888888888888888,
              "#fdca26"
             ],
             [
              1,
              "#f0f921"
             ]
            ],
            "type": "heatmap"
           }
          ],
          "heatmapgl": [
           {
            "colorbar": {
             "outlinewidth": 0,
             "ticks": ""
            },
            "colorscale": [
             [
              0,
              "#0d0887"
             ],
             [
              0.1111111111111111,
              "#46039f"
             ],
             [
              0.2222222222222222,
              "#7201a8"
             ],
             [
              0.3333333333333333,
              "#9c179e"
             ],
             [
              0.4444444444444444,
              "#bd3786"
             ],
             [
              0.5555555555555556,
              "#d8576b"
             ],
             [
              0.6666666666666666,
              "#ed7953"
             ],
             [
              0.7777777777777778,
              "#fb9f3a"
             ],
             [
              0.8888888888888888,
              "#fdca26"
             ],
             [
              1,
              "#f0f921"
             ]
            ],
            "type": "heatmapgl"
           }
          ],
          "histogram": [
           {
            "marker": {
             "pattern": {
              "fillmode": "overlay",
              "size": 10,
              "solidity": 0.2
             }
            },
            "type": "histogram"
           }
          ],
          "histogram2d": [
           {
            "colorbar": {
             "outlinewidth": 0,
             "ticks": ""
            },
            "colorscale": [
             [
              0,
              "#0d0887"
             ],
             [
              0.1111111111111111,
              "#46039f"
             ],
             [
              0.2222222222222222,
              "#7201a8"
             ],
             [
              0.3333333333333333,
              "#9c179e"
             ],
             [
              0.4444444444444444,
              "#bd3786"
             ],
             [
              0.5555555555555556,
              "#d8576b"
             ],
             [
              0.6666666666666666,
              "#ed7953"
             ],
             [
              0.7777777777777778,
              "#fb9f3a"
             ],
             [
              0.8888888888888888,
              "#fdca26"
             ],
             [
              1,
              "#f0f921"
             ]
            ],
            "type": "histogram2d"
           }
          ],
          "histogram2dcontour": [
           {
            "colorbar": {
             "outlinewidth": 0,
             "ticks": ""
            },
            "colorscale": [
             [
              0,
              "#0d0887"
             ],
             [
              0.1111111111111111,
              "#46039f"
             ],
             [
              0.2222222222222222,
              "#7201a8"
             ],
             [
              0.3333333333333333,
              "#9c179e"
             ],
             [
              0.4444444444444444,
              "#bd3786"
             ],
             [
              0.5555555555555556,
              "#d8576b"
             ],
             [
              0.6666666666666666,
              "#ed7953"
             ],
             [
              0.7777777777777778,
              "#fb9f3a"
             ],
             [
              0.8888888888888888,
              "#fdca26"
             ],
             [
              1,
              "#f0f921"
             ]
            ],
            "type": "histogram2dcontour"
           }
          ],
          "mesh3d": [
           {
            "colorbar": {
             "outlinewidth": 0,
             "ticks": ""
            },
            "type": "mesh3d"
           }
          ],
          "parcoords": [
           {
            "line": {
             "colorbar": {
              "outlinewidth": 0,
              "ticks": ""
             }
            },
            "type": "parcoords"
           }
          ],
          "pie": [
           {
            "automargin": true,
            "type": "pie"
           }
          ],
          "scatter": [
           {
            "fillpattern": {
             "fillmode": "overlay",
             "size": 10,
             "solidity": 0.2
            },
            "type": "scatter"
           }
          ],
          "scatter3d": [
           {
            "line": {
             "colorbar": {
              "outlinewidth": 0,
              "ticks": ""
             }
            },
            "marker": {
             "colorbar": {
              "outlinewidth": 0,
              "ticks": ""
             }
            },
            "type": "scatter3d"
           }
          ],
          "scattercarpet": [
           {
            "marker": {
             "colorbar": {
              "outlinewidth": 0,
              "ticks": ""
             }
            },
            "type": "scattercarpet"
           }
          ],
          "scattergeo": [
           {
            "marker": {
             "colorbar": {
              "outlinewidth": 0,
              "ticks": ""
             }
            },
            "type": "scattergeo"
           }
          ],
          "scattergl": [
           {
            "marker": {
             "colorbar": {
              "outlinewidth": 0,
              "ticks": ""
             }
            },
            "type": "scattergl"
           }
          ],
          "scattermapbox": [
           {
            "marker": {
             "colorbar": {
              "outlinewidth": 0,
              "ticks": ""
             }
            },
            "type": "scattermapbox"
           }
          ],
          "scatterpolar": [
           {
            "marker": {
             "colorbar": {
              "outlinewidth": 0,
              "ticks": ""
             }
            },
            "type": "scatterpolar"
           }
          ],
          "scatterpolargl": [
           {
            "marker": {
             "colorbar": {
              "outlinewidth": 0,
              "ticks": ""
             }
            },
            "type": "scatterpolargl"
           }
          ],
          "scatterternary": [
           {
            "marker": {
             "colorbar": {
              "outlinewidth": 0,
              "ticks": ""
             }
            },
            "type": "scatterternary"
           }
          ],
          "surface": [
           {
            "colorbar": {
             "outlinewidth": 0,
             "ticks": ""
            },
            "colorscale": [
             [
              0,
              "#0d0887"
             ],
             [
              0.1111111111111111,
              "#46039f"
             ],
             [
              0.2222222222222222,
              "#7201a8"
             ],
             [
              0.3333333333333333,
              "#9c179e"
             ],
             [
              0.4444444444444444,
              "#bd3786"
             ],
             [
              0.5555555555555556,
              "#d8576b"
             ],
             [
              0.6666666666666666,
              "#ed7953"
             ],
             [
              0.7777777777777778,
              "#fb9f3a"
             ],
             [
              0.8888888888888888,
              "#fdca26"
             ],
             [
              1,
              "#f0f921"
             ]
            ],
            "type": "surface"
           }
          ],
          "table": [
           {
            "cells": {
             "fill": {
              "color": "#EBF0F8"
             },
             "line": {
              "color": "white"
             }
            },
            "header": {
             "fill": {
              "color": "#C8D4E3"
             },
             "line": {
              "color": "white"
             }
            },
            "type": "table"
           }
          ]
         },
         "layout": {
          "annotationdefaults": {
           "arrowcolor": "#2a3f5f",
           "arrowhead": 0,
           "arrowwidth": 1
          },
          "autotypenumbers": "strict",
          "coloraxis": {
           "colorbar": {
            "outlinewidth": 0,
            "ticks": ""
           }
          },
          "colorscale": {
           "diverging": [
            [
             0,
             "#8e0152"
            ],
            [
             0.1,
             "#c51b7d"
            ],
            [
             0.2,
             "#de77ae"
            ],
            [
             0.3,
             "#f1b6da"
            ],
            [
             0.4,
             "#fde0ef"
            ],
            [
             0.5,
             "#f7f7f7"
            ],
            [
             0.6,
             "#e6f5d0"
            ],
            [
             0.7,
             "#b8e186"
            ],
            [
             0.8,
             "#7fbc41"
            ],
            [
             0.9,
             "#4d9221"
            ],
            [
             1,
             "#276419"
            ]
           ],
           "sequential": [
            [
             0,
             "#0d0887"
            ],
            [
             0.1111111111111111,
             "#46039f"
            ],
            [
             0.2222222222222222,
             "#7201a8"
            ],
            [
             0.3333333333333333,
             "#9c179e"
            ],
            [
             0.4444444444444444,
             "#bd3786"
            ],
            [
             0.5555555555555556,
             "#d8576b"
            ],
            [
             0.6666666666666666,
             "#ed7953"
            ],
            [
             0.7777777777777778,
             "#fb9f3a"
            ],
            [
             0.8888888888888888,
             "#fdca26"
            ],
            [
             1,
             "#f0f921"
            ]
           ],
           "sequentialminus": [
            [
             0,
             "#0d0887"
            ],
            [
             0.1111111111111111,
             "#46039f"
            ],
            [
             0.2222222222222222,
             "#7201a8"
            ],
            [
             0.3333333333333333,
             "#9c179e"
            ],
            [
             0.4444444444444444,
             "#bd3786"
            ],
            [
             0.5555555555555556,
             "#d8576b"
            ],
            [
             0.6666666666666666,
             "#ed7953"
            ],
            [
             0.7777777777777778,
             "#fb9f3a"
            ],
            [
             0.8888888888888888,
             "#fdca26"
            ],
            [
             1,
             "#f0f921"
            ]
           ]
          },
          "colorway": [
           "#636efa",
           "#EF553B",
           "#00cc96",
           "#ab63fa",
           "#FFA15A",
           "#19d3f3",
           "#FF6692",
           "#B6E880",
           "#FF97FF",
           "#FECB52"
          ],
          "font": {
           "color": "#2a3f5f"
          },
          "geo": {
           "bgcolor": "white",
           "lakecolor": "white",
           "landcolor": "#E5ECF6",
           "showlakes": true,
           "showland": true,
           "subunitcolor": "white"
          },
          "hoverlabel": {
           "align": "left"
          },
          "hovermode": "closest",
          "mapbox": {
           "style": "light"
          },
          "paper_bgcolor": "white",
          "plot_bgcolor": "#E5ECF6",
          "polar": {
           "angularaxis": {
            "gridcolor": "white",
            "linecolor": "white",
            "ticks": ""
           },
           "bgcolor": "#E5ECF6",
           "radialaxis": {
            "gridcolor": "white",
            "linecolor": "white",
            "ticks": ""
           }
          },
          "scene": {
           "xaxis": {
            "backgroundcolor": "#E5ECF6",
            "gridcolor": "white",
            "gridwidth": 2,
            "linecolor": "white",
            "showbackground": true,
            "ticks": "",
            "zerolinecolor": "white"
           },
           "yaxis": {
            "backgroundcolor": "#E5ECF6",
            "gridcolor": "white",
            "gridwidth": 2,
            "linecolor": "white",
            "showbackground": true,
            "ticks": "",
            "zerolinecolor": "white"
           },
           "zaxis": {
            "backgroundcolor": "#E5ECF6",
            "gridcolor": "white",
            "gridwidth": 2,
            "linecolor": "white",
            "showbackground": true,
            "ticks": "",
            "zerolinecolor": "white"
           }
          },
          "shapedefaults": {
           "line": {
            "color": "#2a3f5f"
           }
          },
          "ternary": {
           "aaxis": {
            "gridcolor": "white",
            "linecolor": "white",
            "ticks": ""
           },
           "baxis": {
            "gridcolor": "white",
            "linecolor": "white",
            "ticks": ""
           },
           "bgcolor": "#E5ECF6",
           "caxis": {
            "gridcolor": "white",
            "linecolor": "white",
            "ticks": ""
           }
          },
          "title": {
           "x": 0.05
          },
          "xaxis": {
           "automargin": true,
           "gridcolor": "white",
           "linecolor": "white",
           "ticks": "",
           "title": {
            "standoff": 15
           },
           "zerolinecolor": "white",
           "zerolinewidth": 2
          },
          "yaxis": {
           "automargin": true,
           "gridcolor": "white",
           "linecolor": "white",
           "ticks": "",
           "title": {
            "standoff": 15
           },
           "zerolinecolor": "white",
           "zerolinewidth": 2
          }
         }
        },
        "title": {
         "text": ""
        },
        "width": 1000,
        "xaxis": {
         "anchor": "y",
         "constrain": "domain",
         "domain": [
          0,
          1
         ],
         "scaleanchor": "y",
         "showticklabels": false
        },
        "yaxis": {
         "anchor": "x",
         "autorange": "reversed",
         "constrain": "domain",
         "domain": [
          0,
          1
         ],
         "showticklabels": false
        }
       }
      }
     },
     "metadata": {},
     "output_type": "display_data"
    }
   ],
   "source": [
    "import plotly.express as px\n",
    "\n",
    "embedding = model.module.position_embedding(torch.arange(block_size)).detach().numpy()\n",
    "\n",
    "similarity = []\n",
    "\n",
    "for x in embedding:\n",
    "    row = []\n",
    "    for y in embedding:\n",
    "        row.append(np.dot(x, y)/(np.linalg.norm(x)*np.linalg.norm(y)))\n",
    "    similarity.append(row)\n",
    "\n",
    "figure = px.imshow(\n",
    "    similarity,\n",
    "    title=f\"{MODELNAME} position embedding similarity matrix\",\n",
    "    color_continuous_scale=\"portland\"\n",
    ")\n",
    "\n",
    "hide_ui = True\n",
    "\n",
    "if hide_ui:\n",
    "    figure.update_layout(coloraxis_showscale=False)\n",
    "    figure.update_xaxes(showticklabels=False)\n",
    "    figure.update_yaxes(showticklabels=False)\n",
    "    figure.update_layout(\n",
    "        title=\"\",\n",
    "        autosize=False,\n",
    "        margin=dict(\n",
    "            l=0,\n",
    "            r=0,\n",
    "            b=0,\n",
    "            t=0,\n",
    "            pad=0\n",
    "        ),\n",
    "        width=1000,\n",
    "        height=1000\n",
    "    )\n",
    "\n",
    "figure"
   ]
  },
  {
   "cell_type": "code",
   "execution_count": null,
   "metadata": {},
   "outputs": [],
   "source": [
    "test_perms.apppend(list(range(16)))"
   ]
  },
  {
   "cell_type": "code",
   "execution_count": null,
   "metadata": {},
   "outputs": [],
   "source": [
    "from sklearn.decomposition import PCA\n",
    "from sklearn.manifold import TSNE\n",
    "\n",
    "embedding = model.module.position_embedding(torch.arange(block_size)).numpy()\n",
    "\n",
    "pca = PCA(n_components=37)\n",
    "pca_reduced = pca.fit_transform(embedding)\n",
    "\n",
    "tsne = TSNE()\n",
    "tsne_reduced = tsne.fit_transform(pca_reduced)"
   ]
  },
  {
   "cell_type": "code",
   "execution_count": null,
   "metadata": {},
   "outputs": [],
   "source": [
    "tsne_reduced"
   ]
  },
  {
   "cell_type": "code",
   "execution_count": null,
   "metadata": {},
   "outputs": [],
   "source": [
    "import plotly.express as px\n",
    "\n",
    "px.scatter(\n",
    "    x=tsne_reduced[:,0], \n",
    "    y=tsne_reduced[:,1], \n",
    "    color=[\"input\" for x in range(20)] + [\"seperator\"] + [\"output\" for x in range(16)]\n",
    ")"
   ]
  },
  {
   "cell_type": "code",
   "execution_count": null,
   "metadata": {},
   "outputs": [],
   "source": [
    "import wandb\n",
    "\n",
    "wandb.login()\n",
    "run = wandb.init()"
   ]
  },
  {
   "cell_type": "code",
   "execution_count": null,
   "metadata": {},
   "outputs": [],
   "source": [
    "run.log({\"image\": wandb.Image(np.array(similarity))})"
   ]
  },
  {
   "cell_type": "code",
   "execution_count": null,
   "metadata": {},
   "outputs": [],
   "source": [
    "plausible = 0\n",
    "\n",
    "for perm in tqdm(test_perms):\n",
    "    correct = 0\n",
    "\n",
    "    for pos, char in enumerate(perm):\n",
    "        if char == pos:\n",
    "            correct += 1\n",
    "    \n",
    "    if correct >= 6:\n",
    "        plausible += 1\n",
    "\n",
    "plausible/len(test_perms)"
   ]
  },
  {
   "cell_type": "code",
   "execution_count": null,
   "metadata": {},
   "outputs": [],
   "source": [
    "for x in test_dataloader:\n",
    "    break\n",
    "\n",
    "model(x[0][0].reshape((1,-1)))"
   ]
  },
  {
   "cell_type": "code",
   "execution_count": null,
   "metadata": {},
   "outputs": [],
   "source": [
    "model(x[0][0].reshape((1,-1))).argsort(dim=1, descending=True)[0]"
   ]
  },
  {
   "cell_type": "code",
   "execution_count": null,
   "metadata": {},
   "outputs": [],
   "source": [
    "test_perms[0]"
   ]
  },
  {
   "cell_type": "code",
   "execution_count": null,
   "metadata": {},
   "outputs": [],
   "source": [
    "a.argmax()"
   ]
  },
  {
   "cell_type": "code",
   "execution_count": null,
   "metadata": {},
   "outputs": [],
   "source": [
    "15+num_trans"
   ]
  },
  {
   "cell_type": "code",
   "execution_count": null,
   "metadata": {},
   "outputs": [],
   "source": [
    "best = float(\"inf\")\n",
    "\n",
    "for perm in test_perms:\n",
    "    fixed = 0\n",
    "\n",
    "    for pos, char in enumerate(perm):\n",
    "        fixed += pos == char\n",
    "    \n",
    "    best = min(fixed, best)\n",
    "\n",
    "best"
   ]
  },
  {
   "cell_type": "code",
   "execution_count": 32,
   "metadata": {},
   "outputs": [
    {
     "data": {
      "application/vnd.plotly.v1+json": {
       "config": {
        "plotlyServerURL": "https://plot.ly"
       },
       "data": [
        {
         "coloraxis": "coloraxis",
         "hovertemplate": "x: %{x}<br>y: %{y}<br>color: %{z}<extra></extra>",
         "name": "0",
         "type": "heatmap",
         "xaxis": "x",
         "yaxis": "y",
         "z": [
          [
           1,
           0.07876832783222198,
           0.05603085458278656,
           0.09738964587450027,
           -0.41573596000671387,
           0.0013318059500306845,
           -0.06095680966973305,
           -0.1628601849079132,
           -0.02743249572813511,
           -0.0026111528277397156,
           0.45835328102111816,
           -0.005765101406723261,
           0.03557179868221283,
           0.22014155983924866,
           0.02452053874731064,
           -0.3574923872947693,
           0.06698568165302277,
           -0.06487389653921127,
           -0.010369868017733097,
           0.026824824512004852,
           0.00780173484236002,
           -0.14918646216392517,
           -0.03131768852472305,
           -0.06122541427612305,
           -0.0920647531747818,
           -0.17942191660404205,
           -0.18439070880413055,
           -0.0063990335911512375,
           0.017242230474948883,
           -0.06481406837701797,
           0.08075059205293655,
           -0.019343268126249313,
           -0.06669340282678604,
           -0.07520078122615814
          ],
          [
           0.07876832783222198,
           1.0000001192092896,
           0.030392030254006386,
           -0.41646608710289,
           0.14094336330890656,
           0.0001948237040778622,
           -0.01005311869084835,
           -0.08837925642728806,
           0.043192870914936066,
           0.12241394817829132,
           -0.053880490362644196,
           0.586728572845459,
           -0.023751452565193176,
           0.15155291557312012,
           -0.47002291679382324,
           0.042578183114528656,
           -0.03917107731103897,
           0.39444205164909363,
           -0.07717642188072205,
           -0.08884025365114212,
           -0.03549575060606003,
           -0.0391245037317276,
           -0.016318583860993385,
           -0.024901824072003365,
           -0.062222953885793686,
           -0.012879529036581516,
           0.030413417145609856,
           -0.15755653381347656,
           -0.010707538574934006,
           -0.11563754826784134,
           0.053124334663152695,
           -0.04990945756435394,
           -0.0198960117995739,
           0.143912211060524
          ],
          [
           0.05603085458278656,
           0.030392030254006386,
           0.9999999403953552,
           0.037213485687971115,
           0.011785943992435932,
           -0.07629387080669403,
           -0.03315488621592522,
           -0.10195381194353104,
           0.06857311725616455,
           -0.6210952401161194,
           0.021920310333371162,
           0.0047197164967656136,
           0.4832330048084259,
           0.19741585850715637,
           0.023634176701307297,
           -0.08767834305763245,
           -0.1192171648144722,
           -0.07003170996904373,
           0.51246178150177,
           0.13953915238380432,
           -0.04226759076118469,
           0.09711632877588272,
           0.00701543316245079,
           -0.06450671702623367,
           0.0051093799993395805,
           -0.025026312097907066,
           -0.01977420039474964,
           -0.07750945538282394,
           -0.009939262643456459,
           0.022667422890663147,
           -0.11613556742668152,
           0.13041047751903534,
           0.003421006491407752,
           -0.08721989393234253
          ],
          [
           0.09738964587450027,
           -0.41646608710289,
           0.037213485687971115,
           0.9999998807907104,
           0.1363784372806549,
           0.05419660359621048,
           -0.11830130964517593,
           -0.06672497093677521,
           0.0428340807557106,
           0.055564943701028824,
           0.055234406143426895,
           -0.6923215985298157,
           0.005027800798416138,
           0.21157126128673553,
           0.6052671074867249,
           -0.029183758422732353,
           -0.045302148908376694,
           -0.2576565742492676,
           0.04013641178607941,
           0.26053357124328613,
           -0.003617354203015566,
           -0.027912462130188942,
           -0.01708241179585457,
           -0.040638770908117294,
           -0.0721348449587822,
           -0.02683008648455143,
           -0.08812148123979568,
           0.08653367310762405,
           -0.00808186549693346,
           0.012176108546555042,
           -0.14978834986686707,
           0.08626634627580643,
           -0.12839220464229584,
           0.009843805804848671
          ],
          [
           -0.41573596000671387,
           0.14094336330890656,
           0.011785943992435932,
           0.1363784372806549,
           0.9999998807907104,
           -0.07039594650268555,
           -0.04159722477197647,
           -0.056163039058446884,
           0.1751021146774292,
           0.10228990018367767,
           -0.6258209943771362,
           0.04079978168010712,
           0.0705181211233139,
           0.16389378905296326,
           0.17892272770404816,
           0.43728959560394287,
           0.09998127818107605,
           0.062116075307130814,
           0.02644498459994793,
           0.040174469351768494,
           0.06333345919847488,
           0.09428130090236664,
           0.016595134511590004,
           -0.03440794348716736,
           0.005050471518188715,
           0.09892909228801727,
           -0.03600884601473808,
           0.0946609228849411,
           0.10216778516769409,
           0.1075243353843689,
           -0.08300181478261948,
           0.09518374502658844,
           -0.12664243578910828,
           0.15613088011741638
          ],
          [
           0.0013318059500306845,
           0.0001948237040778622,
           -0.07629387080669403,
           0.05419660359621048,
           -0.07039594650268555,
           0.9999998807907104,
           -0.04471676051616669,
           -0.04155595228075981,
           -0.6728869676589966,
           0.01754574291408062,
           0.0945294126868248,
           -0.007736884523183107,
           0.025066761299967766,
           0.040286000818014145,
           -0.07891387492418289,
           0.360899955034256,
           -0.06153362989425659,
           -0.19581757485866547,
           -0.2412215769290924,
           -0.05086042732000351,
           -0.080227792263031,
           -0.12255579233169556,
           -0.06663858145475388,
           -0.06044691428542137,
           -0.10072751343250275,
           -0.0639318972826004,
           -0.12860402464866638,
           -0.050213560461997986,
           -0.13981510698795319,
           -0.13135527074337006,
           0.01769748143851757,
           -0.06941438466310501,
           0.002425688784569502,
           -0.17899930477142334
          ],
          [
           -0.06095680966973305,
           -0.01005311869084835,
           -0.03315488621592522,
           -0.11830130964517593,
           -0.04159722477197647,
           -0.04471676051616669,
           1.0000001192092896,
           -0.011144771240651608,
           -0.012464585714042187,
           0.043960683047771454,
           -0.06392128020524979,
           -0.05067794397473335,
           -0.06518036127090454,
           -0.037547577172517776,
           -0.05781752988696098,
           0.02752351202070713,
           0.14668767154216766,
           -0.13261717557907104,
           -0.005633998662233353,
           0.02912067249417305,
           -0.14120841026306152,
           0.011730638332664967,
           0.1773265302181244,
           -0.11303668469190598,
           0.06065909191966057,
           0.027509495615959167,
           0.09011858701705933,
           0.09781733900308609,
           0.006203762721270323,
           0.0809408500790596,
           -0.11511807888746262,
           -0.0190141424536705,
           -0.006956825498491526,
           -0.1694449484348297
          ],
          [
           -0.1628601849079132,
           -0.08837925642728806,
           -0.10195381194353104,
           -0.06672497093677521,
           -0.056163039058446884,
           -0.04155595228075981,
           -0.011144771240651608,
           1,
           0.10112664103507996,
           0.11225095391273499,
           0.07586975395679474,
           0.0673486739397049,
           0.03668934479355812,
           -0.7362489104270935,
           0.029725588858127594,
           0.019684260711073875,
           -0.13605241477489471,
           0.16778214275836945,
           -0.005687003023922443,
           -0.13448016345500946,
           0.043025705963373184,
           0.06265363842248917,
           -0.07724875211715698,
           0.22354784607887268,
           0.03552842512726784,
           0.013059963472187519,
           -0.03423405438661575,
           -0.11890953779220581,
           -0.01018701121211052,
           0.016918784007430077,
           0.0414375402033329,
           -0.021149586886167526,
           -0.02444799244403839,
           0.08783003687858582
          ],
          [
           -0.02743249572813511,
           0.043192870914936066,
           0.06857311725616455,
           0.0428340807557106,
           0.1751021146774292,
           -0.6728869676589966,
           -0.012464585714042187,
           0.10112664103507996,
           1,
           0.11192318797111511,
           -0.017730850726366043,
           0.11812697350978851,
           0.05822859704494476,
           0.09732604771852493,
           0.08726934343576431,
           -0.33374759554862976,
           -0.16769695281982422,
           -0.011432754807174206,
           0.09468124806880951,
           -0.07634426653385162,
           -0.05467076599597931,
           0.02909206598997116,
           -0.03547177091240883,
           -0.030688073486089706,
           -0.001944918418303132,
           -0.009230018593370914,
           0.02052837423980236,
           0.021163830533623695,
           0.026537880301475525,
           -0.03037959896028042,
           -0.1422267109155655,
           -0.11234742403030396,
           0.021771864965558052,
           0.20649532973766327
          ],
          [
           -0.0026111528277397156,
           0.12241394817829132,
           -0.6210952401161194,
           0.055564943701028824,
           0.10228990018367767,
           0.01754574291408062,
           0.043960683047771454,
           0.11225095391273499,
           0.11192318797111511,
           0.9999998807907104,
           0.0398193895816803,
           0.13841260969638824,
           -0.693808913230896,
           0.02832605317234993,
           0.04270599037408829,
           0.16203074157238007,
           0.08525799959897995,
           -0.09104308485984802,
           -0.101591095328331,
           -0.145350381731987,
           -0.010444297455251217,
           -0.15889586508274078,
           -0.15810652077198029,
           -0.04084968939423561,
           -0.08951681107282639,
           -0.051150377839803696,
           -0.09985220432281494,
           -0.05137116089463234,
           -0.03746422007679939,
           -0.12756986916065216,
           0.05630907416343689,
           -0.09942355751991272,
           0.007597141899168491,
           0.24892543256282806
          ],
          [
           0.45835328102111816,
           -0.053880490362644196,
           0.021920310333371162,
           0.055234406143426895,
           -0.6258209943771362,
           0.0945294126868248,
           -0.06392128020524979,
           0.07586975395679474,
           -0.017730850726366043,
           0.0398193895816803,
           1,
           0.0584566593170166,
           0.09900335222482681,
           0.023171406239271164,
           0.000947555061429739,
           -0.3932597041130066,
           -0.1850619614124298,
           -0.07425131648778915,
           -0.03323511779308319,
           -0.09240172803401947,
           -0.016997136175632477,
           -0.1006588488817215,
           -0.045910872519016266,
           -0.03777693212032318,
           -0.0503435842692852,
           -0.06975968927145004,
           0.05050372704863548,
           -0.13155029714107513,
           -0.10239213705062866,
           -0.10027344524860382,
           0.05401191487908363,
           -0.09812980890274048,
           -0.016122853383421898,
           -0.032354459166526794
          ],
          [
           -0.005765101406723261,
           0.586728572845459,
           0.0047197164967656136,
           -0.6923215985298157,
           0.04079978168010712,
           -0.007736884523183107,
           -0.05067794397473335,
           0.0673486739397049,
           0.11812697350978851,
           0.13841260969638824,
           0.0584566593170166,
           1.0000001192092896,
           0.06747833639383316,
           0.05269285663962364,
           -0.607674777507782,
           0.07709449529647827,
           -0.027064062654972076,
           0.12304115295410156,
           0.016715267673134804,
           -0.1507290005683899,
           0.04187686741352081,
           0.01809387095272541,
           -0.022790461778640747,
           0.018164092674851418,
           0.003556689480319619,
           0.044535282999277115,
           0.11111737787723541,
           -0.10005240887403488,
           0.04374435171484947,
           -0.034331995993852615,
           0.0994780883193016,
           -0.07480032742023468,
           -0.05823347344994545,
           0.05815993994474411
          ],
          [
           0.03557179868221283,
           -0.023751452565193176,
           0.4832330048084259,
           0.005027800798416138,
           0.0705181211233139,
           0.025066761299967766,
           -0.06518036127090454,
           0.03668934479355812,
           0.05822859704494476,
           -0.693808913230896,
           0.09900335222482681,
           0.06747833639383316,
           1,
           0.06886345893144608,
           0.07257196307182312,
           0.03198559209704399,
           -0.2133747935295105,
           0.051482222974300385,
           -0.03824238479137421,
           0.0247440654784441,
           -0.035517700016498566,
           0.13407811522483826,
           0.10805712640285492,
           -0.048107050359249115,
           0.058895766735076904,
           -0.01600728929042816,
           0.10379009693861008,
           -0.049220383167266846,
           -0.07410431653261185,
           0.09094955027103424,
           -0.11709462851285934,
           -0.06122913211584091,
           -0.034797344356775284,
           -0.1593199372291565
          ],
          [
           0.22014155983924866,
           0.15155291557312012,
           0.19741585850715637,
           0.21157126128673553,
           0.16389378905296326,
           0.040286000818014145,
           -0.037547577172517776,
           -0.7362489104270935,
           0.09732604771852493,
           0.02832605317234993,
           0.023171406239271164,
           0.05269285663962364,
           0.06886345893144608,
           1,
           0.17840147018432617,
           0.10812121629714966,
           0.044717442244291306,
           -0.24464380741119385,
           0.04437242075800896,
           0.07573223859071732,
           -0.012585652060806751,
           -0.09912540018558502,
           0.0672023743391037,
           -0.3189425766468048,
           -0.09649865329265594,
           -0.0007284113671630621,
           0.04951959475874901,
           0.11699904501438141,
           0.10145989805459976,
           -0.052306342869997025,
           -0.04897413030266762,
           0.03760097548365593,
           -0.031238900497555733,
           -0.07592243701219559
          ],
          [
           0.02452053874731064,
           -0.47002291679382324,
           0.023634176701307297,
           0.6052671074867249,
           0.17892272770404816,
           -0.07891387492418289,
           -0.05781752988696098,
           0.029725588858127594,
           0.08726934343576431,
           0.04270599037408829,
           0.000947555061429739,
           -0.607674777507782,
           0.07257196307182312,
           0.17840147018432617,
           1.0000001192092896,
           0.09950762242078781,
           -0.04760365188121796,
           -0.13282909989356995,
           0.09189625829458237,
           0.033514656126499176,
           0.011230544187128544,
           -0.13012820482254028,
           0.06488513946533203,
           -0.04712533578276634,
           0.03125588968396187,
           0.060368333011865616,
           0.0019184057600796223,
           0.1141582652926445,
           -0.01682727225124836,
           0.10070199519395828,
           0.195188507437706,
           0.060896556824445724,
           -0.05807829275727272,
           -0.01268684584647417
          ],
          [
           -0.3574923872947693,
           0.042578183114528656,
           -0.08767834305763245,
           -0.029183758422732353,
           0.43728959560394287,
           0.360899955034256,
           0.02752351202070713,
           0.019684260711073875,
           -0.33374759554862976,
           0.16203074157238007,
           -0.3932597041130066,
           0.07709449529647827,
           0.03198559209704399,
           0.10812121629714966,
           0.09950762242078781,
           1,
           0.13371476531028748,
           -0.028467722237110138,
           0.048475343734025955,
           0.049634698778390884,
           0.056555576622486115,
           0.025785602629184723,
           0.011952700093388557,
           -0.08840376138687134,
           -0.018515972420573235,
           0.05023203045129776,
           -0.0039015221409499645,
           -0.010667807422578335,
           -0.017058541998267174,
           -0.06651683151721954,
           0.009351560845971107,
           -0.10183505713939667,
           -0.06512802839279175,
           -0.11252228915691376
          ],
          [
           0.06698568165302277,
           -0.03917107731103897,
           -0.1192171648144722,
           -0.045302148908376694,
           0.09998127818107605,
           -0.06153362989425659,
           0.14668767154216766,
           -0.13605241477489471,
           -0.16769695281982422,
           0.08525799959897995,
           -0.1850619614124298,
           -0.027064062654972076,
           -0.2133747935295105,
           0.044717442244291306,
           -0.04760365188121796,
           0.13371476531028748,
           1.0000001192092896,
           0.18157513439655304,
           0.1482655555009842,
           0.21822616457939148,
           0.21116098761558533,
           0.23192192614078522,
           0.18525391817092896,
           0.06287756562232971,
           0.12101953476667404,
           0.07212139666080475,
           0.18416060507297516,
           0.2893809378147125,
           0.23017296195030212,
           0.17939376831054688,
           0.025286905467510223,
           0.13079418241977692,
           -0.21394969522953033,
           0.12647785246372223
          ],
          [
           -0.06487389653921127,
           0.39444205164909363,
           -0.07003170996904373,
           -0.2576565742492676,
           0.062116075307130814,
           -0.19581757485866547,
           -0.13261717557907104,
           0.16778214275836945,
           -0.011432754807174206,
           -0.09104308485984802,
           -0.07425131648778915,
           0.12304115295410156,
           0.051482222974300385,
           -0.24464380741119385,
           -0.13282909989356995,
           -0.028467722237110138,
           0.18157513439655304,
           0.9999999403953552,
           0.09094981849193573,
           0.014766952022910118,
           0.2570529878139496,
           0.29896894097328186,
           0.043813105672597885,
           0.28802070021629333,
           0.18399213254451752,
           0.21838831901550293,
           0.3267292380332947,
           0.10603294521570206,
           0.2338642179965973,
           0.025222379714250565,
           0.2091001272201538,
           0.01595294289290905,
           -0.26628661155700684,
           0.13107836246490479
          ],
          [
           -0.010369868017733097,
           -0.07717642188072205,
           0.51246178150177,
           0.04013641178607941,
           0.02644498459994793,
           -0.2412215769290924,
           -0.005633998662233353,
           -0.005687003023922443,
           0.09468124806880951,
           -0.101591095328331,
           -0.03323511779308319,
           0.016715267673134804,
           -0.03824238479137421,
           0.04437242075800896,
           0.09189625829458237,
           0.048475343734025955,
           0.1482655555009842,
           0.09094981849193573,
           1,
           0.21189193427562714,
           0.08570872992277145,
           0.20784300565719604,
           0.07606742531061172,
           0.0918397307395935,
           0.0950000062584877,
           0.1317746937274933,
           0.1436801254749298,
           0.11812955886125565,
           0.1226583793759346,
           0.11113542318344116,
           0.11344785243272781,
           0.22806644439697266,
           -0.3100486695766449,
           0.02390744537115097
          ],
          [
           0.026824824512004852,
           -0.08884025365114212,
           0.13953915238380432,
           0.26053357124328613,
           0.040174469351768494,
           -0.05086042732000351,
           0.02912067249417305,
           -0.13448016345500946,
           -0.07634426653385162,
           -0.145350381731987,
           -0.09240172803401947,
           -0.1507290005683899,
           0.0247440654784441,
           0.07573223859071732,
           0.033514656126499176,
           0.049634698778390884,
           0.21822616457939148,
           0.014766952022910118,
           0.21189193427562714,
           1,
           0.061157986521720886,
           0.22012902796268463,
           0.17659446597099304,
           -0.1561051309108734,
           0.15616098046302795,
           0.19148801267147064,
           0.20543795824050903,
           0.2575017213821411,
           0.11981694400310516,
           0.21946458518505096,
           0.19465970993041992,
           0.29957064986228943,
           -0.3421907126903534,
           0.06341049075126648
          ],
          [
           0.00780173484236002,
           -0.03549575060606003,
           -0.04226759076118469,
           -0.003617354203015566,
           0.06333345919847488,
           -0.080227792263031,
           -0.14120841026306152,
           0.043025705963373184,
           -0.05467076599597931,
           -0.010444297455251217,
           -0.016997136175632477,
           0.04187686741352081,
           -0.035517700016498566,
           -0.012585652060806751,
           0.011230544187128544,
           0.056555576622486115,
           0.21116098761558533,
           0.2570529878139496,
           0.08570872992277145,
           0.061157986521720886,
           0.9999999403953552,
           0.19918811321258545,
           0.0671580582857132,
           0.09370864182710648,
           0.13237598538398743,
           0.125017449259758,
           0.12838388979434967,
           0.03899237513542175,
           0.16571462154388428,
           0.0064984471537172794,
           0.1114070788025856,
           0.11474296450614929,
           -0.26239559054374695,
           -0.08476854860782623
          ],
          [
           -0.14918646216392517,
           -0.0391245037317276,
           0.09711632877588272,
           -0.027912462130188942,
           0.09428130090236664,
           -0.12255579233169556,
           0.011730638332664967,
           0.06265363842248917,
           0.02909206598997116,
           -0.15889586508274078,
           -0.1006588488817215,
           0.01809387095272541,
           0.13407811522483826,
           -0.09912540018558502,
           -0.13012820482254028,
           0.025785602629184723,
           0.23192192614078522,
           0.29896894097328186,
           0.20784300565719604,
           0.22012902796268463,
           0.19918811321258545,
           1.0000001192092896,
           0.22938142716884613,
           0.1850176602602005,
           0.26561227440834045,
           0.2015027552843094,
           0.2588155269622803,
           0.09316081553697586,
           0.20014090836048126,
           0.09068528562784195,
           -0.30672481656074524,
           0.19939188659191132,
           -0.28601300716400146,
           0.012543090619146824
          ],
          [
           -0.03131768852472305,
           -0.016318583860993385,
           0.00701543316245079,
           -0.01708241179585457,
           0.016595134511590004,
           -0.06663858145475388,
           0.1773265302181244,
           -0.07724875211715698,
           -0.03547177091240883,
           -0.15810652077198029,
           -0.045910872519016266,
           -0.022790461778640747,
           0.10805712640285492,
           0.0672023743391037,
           0.06488513946533203,
           0.011952700093388557,
           0.18525391817092896,
           0.043813105672597885,
           0.07606742531061172,
           0.17659446597099304,
           0.0671580582857132,
           0.22938142716884613,
           0.9999998807907104,
           0.1662217527627945,
           0.15287402272224426,
           0.15905827283859253,
           0.1823507398366928,
           0.11685499548912048,
           0.027034364640712738,
           0.16730625927448273,
           0.11912550032138824,
           0.10994554311037064,
           -0.25329458713531494,
           -0.028888385742902756
          ],
          [
           -0.06122541427612305,
           -0.024901824072003365,
           -0.06450671702623367,
           -0.040638770908117294,
           -0.03440794348716736,
           -0.06044691428542137,
           -0.11303668469190598,
           0.22354784607887268,
           -0.030688073486089706,
           -0.04084968939423561,
           -0.03777693212032318,
           0.018164092674851418,
           -0.048107050359249115,
           -0.3189425766468048,
           -0.04712533578276634,
           -0.08840376138687134,
           0.06287756562232971,
           0.28802070021629333,
           0.0918397307395935,
           -0.1561051309108734,
           0.09370864182710648,
           0.1850176602602005,
           0.1662217527627945,
           0.9999999403953552,
           0.1607019007205963,
           0.16260631382465363,
           0.09162862598896027,
           0.011798863299190998,
           0.08304089307785034,
           0.12607815861701965,
           0.12412522733211517,
           0.049929678440093994,
           -0.2629471719264984,
           -0.10686521232128143
          ],
          [
           -0.0920647531747818,
           -0.062222953885793686,
           0.0051093799993395805,
           -0.0721348449587822,
           0.005050471518188715,
           -0.10072751343250275,
           0.06065909191966057,
           0.03552842512726784,
           -0.001944918418303132,
           -0.08951681107282639,
           -0.0503435842692852,
           0.003556689480319619,
           0.058895766735076904,
           -0.09649865329265594,
           0.03125588968396187,
           -0.018515972420573235,
           0.12101953476667404,
           0.18399213254451752,
           0.0950000062584877,
           0.15616098046302795,
           0.13237598538398743,
           0.26561227440834045,
           0.15287402272224426,
           0.1607019007205963,
           1.0000001192092896,
           0.11432909220457077,
           0.23431064188480377,
           0.18724510073661804,
           0.13901101052761078,
           0.1347969025373459,
           0.1669500470161438,
           0.045711416751146317,
           -0.36030617356300354,
           0.010267113335430622
          ],
          [
           -0.17942191660404205,
           -0.012879529036581516,
           -0.025026312097907066,
           -0.02683008648455143,
           0.09892909228801727,
           -0.0639318972826004,
           0.027509495615959167,
           0.013059963472187519,
           -0.009230018593370914,
           -0.051150377839803696,
           -0.06975968927145004,
           0.044535282999277115,
           -0.01600728929042816,
           -0.0007284113671630621,
           0.060368333011865616,
           0.05023203045129776,
           0.07212139666080475,
           0.21838831901550293,
           0.1317746937274933,
           0.19148801267147064,
           0.125017449259758,
           0.2015027552843094,
           0.15905827283859253,
           0.16260631382465363,
           0.11432909220457077,
           1.0000001192092896,
           0.2596229612827301,
           0.16948199272155762,
           0.1451026350259781,
           0.06665140390396118,
           0.14932309091091156,
           0.1706739217042923,
           -0.2497526854276657,
           0.009997375309467316
          ],
          [
           -0.18439070880413055,
           0.030413417145609856,
           -0.01977420039474964,
           -0.08812148123979568,
           -0.03600884601473808,
           -0.12860402464866638,
           0.09011858701705933,
           -0.03423405438661575,
           0.02052837423980236,
           -0.09985220432281494,
           0.05050372704863548,
           0.11111737787723541,
           0.10379009693861008,
           0.04951959475874901,
           0.0019184057600796223,
           -0.0039015221409499645,
           0.18416060507297516,
           0.3267292380332947,
           0.1436801254749298,
           0.20543795824050903,
           0.12838388979434967,
           0.2588155269622803,
           0.1823507398366928,
           0.09162862598896027,
           0.23431064188480377,
           0.2596229612827301,
           1,
           0.15350249409675598,
           0.1547529101371765,
           0.11927101761102676,
           0.17270074784755707,
           0.09376215189695358,
           -0.3786972761154175,
           0.01550274807959795
          ],
          [
           -0.0063990335911512375,
           -0.15755653381347656,
           -0.07750945538282394,
           0.08653367310762405,
           0.0946609228849411,
           -0.050213560461997986,
           0.09781733900308609,
           -0.11890953779220581,
           0.021163830533623695,
           -0.05137116089463234,
           -0.13155029714107513,
           -0.10005240887403488,
           -0.049220383167266846,
           0.11699904501438141,
           0.1141582652926445,
           -0.010667807422578335,
           0.2893809378147125,
           0.10603294521570206,
           0.11812955886125565,
           0.2575017213821411,
           0.03899237513542175,
           0.09316081553697586,
           0.11685499548912048,
           0.011798863299190998,
           0.18724510073661804,
           0.16948199272155762,
           0.15350249409675598,
           1.0000001192092896,
           0.0996122881770134,
           0.10108919441699982,
           0.06640081107616425,
           0.06660807877779007,
           -0.22181499004364014,
           -0.054253458976745605
          ],
          [
           0.017242230474948883,
           -0.010707538574934006,
           -0.009939262643456459,
           -0.00808186549693346,
           0.10216778516769409,
           -0.13981510698795319,
           0.006203762721270323,
           -0.01018701121211052,
           0.026537880301475525,
           -0.03746422007679939,
           -0.10239213705062866,
           0.04374435171484947,
           -0.07410431653261185,
           0.10145989805459976,
           -0.01682727225124836,
           -0.017058541998267174,
           0.23017296195030212,
           0.2338642179965973,
           0.1226583793759346,
           0.11981694400310516,
           0.16571462154388428,
           0.20014090836048126,
           0.027034364640712738,
           0.08304089307785034,
           0.13901101052761078,
           0.1451026350259781,
           0.1547529101371765,
           0.0996122881770134,
           1,
           0.008577259257435799,
           0.07116132974624634,
           0.08839765936136246,
           -0.2792223393917084,
           -0.010211714543402195
          ],
          [
           -0.06481406837701797,
           -0.11563754826784134,
           0.022667422890663147,
           0.012176108546555042,
           0.1075243353843689,
           -0.13135527074337006,
           0.0809408500790596,
           0.016918784007430077,
           -0.03037959896028042,
           -0.12756986916065216,
           -0.10027344524860382,
           -0.034331995993852615,
           0.09094955027103424,
           -0.052306342869997025,
           0.10070199519395828,
           -0.06651683151721954,
           0.17939376831054688,
           0.025222379714250565,
           0.11113542318344116,
           0.21946458518505096,
           0.0064984471537172794,
           0.09068528562784195,
           0.16730625927448273,
           0.12607815861701965,
           0.1347969025373459,
           0.06665140390396118,
           0.11927101761102676,
           0.10108919441699982,
           0.008577259257435799,
           1.0000001192092896,
           0.1358911395072937,
           0.180098295211792,
           -0.21745489537715912,
           -0.03035634756088257
          ],
          [
           0.08075059205293655,
           0.053124334663152695,
           -0.11613556742668152,
           -0.14978834986686707,
           -0.08300181478261948,
           0.01769748143851757,
           -0.11511807888746262,
           0.0414375402033329,
           -0.1422267109155655,
           0.05630907416343689,
           0.05401191487908363,
           0.0994780883193016,
           -0.11709462851285934,
           -0.04897413030266762,
           0.195188507437706,
           0.009351560845971107,
           0.025286905467510223,
           0.2091001272201538,
           0.11344785243272781,
           0.19465970993041992,
           0.1114070788025856,
           -0.30672481656074524,
           0.11912550032138824,
           0.12412522733211517,
           0.1669500470161438,
           0.14932309091091156,
           0.17270074784755707,
           0.06640081107616425,
           0.07116132974624634,
           0.1358911395072937,
           1.0000001192092896,
           0.04388032481074333,
           -0.15605659782886505,
           0.2031252086162567
          ],
          [
           -0.019343268126249313,
           -0.04990945756435394,
           0.13041047751903534,
           0.08626634627580643,
           0.09518374502658844,
           -0.06941438466310501,
           -0.0190141424536705,
           -0.021149586886167526,
           -0.11234742403030396,
           -0.09942355751991272,
           -0.09812980890274048,
           -0.07480032742023468,
           -0.06122913211584091,
           0.03760097548365593,
           0.060896556824445724,
           -0.10183505713939667,
           0.13079418241977692,
           0.01595294289290905,
           0.22806644439697266,
           0.29957064986228943,
           0.11474296450614929,
           0.19939188659191132,
           0.10994554311037064,
           0.049929678440093994,
           0.045711416751146317,
           0.1706739217042923,
           0.09376215189695358,
           0.06660807877779007,
           0.08839765936136246,
           0.180098295211792,
           0.04388032481074333,
           1.0000001192092896,
           -0.19815900921821594,
           -0.04449894279241562
          ],
          [
           -0.06669340282678604,
           -0.0198960117995739,
           0.003421006491407752,
           -0.12839220464229584,
           -0.12664243578910828,
           0.002425688784569502,
           -0.006956825498491526,
           -0.02444799244403839,
           0.021771864965558052,
           0.007597141899168491,
           -0.016122853383421898,
           -0.05823347344994545,
           -0.034797344356775284,
           -0.031238900497555733,
           -0.05807829275727272,
           -0.06512802839279175,
           -0.21394969522953033,
           -0.26628661155700684,
           -0.3100486695766449,
           -0.3421907126903534,
           -0.26239559054374695,
           -0.28601300716400146,
           -0.25329458713531494,
           -0.2629471719264984,
           -0.36030617356300354,
           -0.2497526854276657,
           -0.3786972761154175,
           -0.22181499004364014,
           -0.2792223393917084,
           -0.21745489537715912,
           -0.15605659782886505,
           -0.19815900921821594,
           1.0000001192092896,
           0.12226653099060059
          ],
          [
           -0.07520078122615814,
           0.143912211060524,
           -0.08721989393234253,
           0.009843805804848671,
           0.15613088011741638,
           -0.17899930477142334,
           -0.1694449484348297,
           0.08783003687858582,
           0.20649532973766327,
           0.24892543256282806,
           -0.032354459166526794,
           0.05815993994474411,
           -0.1593199372291565,
           -0.07592243701219559,
           -0.01268684584647417,
           -0.11252228915691376,
           0.12647785246372223,
           0.13107836246490479,
           0.02390744537115097,
           0.06341049075126648,
           -0.08476854860782623,
           0.012543090619146824,
           -0.028888385742902756,
           -0.10686521232128143,
           0.010267113335430622,
           0.009997375309467316,
           0.01550274807959795,
           -0.054253458976745605,
           -0.010211714543402195,
           -0.03035634756088257,
           0.2031252086162567,
           -0.04449894279241562,
           0.12226653099060059,
           1.0000001192092896
          ]
         ]
        }
       ],
       "layout": {
        "autosize": false,
        "coloraxis": {
         "colorscale": [
          [
           0,
           "#0d0887"
          ],
          [
           0.1111111111111111,
           "#46039f"
          ],
          [
           0.2222222222222222,
           "#7201a8"
          ],
          [
           0.3333333333333333,
           "#9c179e"
          ],
          [
           0.4444444444444444,
           "#bd3786"
          ],
          [
           0.5555555555555556,
           "#d8576b"
          ],
          [
           0.6666666666666666,
           "#ed7953"
          ],
          [
           0.7777777777777778,
           "#fb9f3a"
          ],
          [
           0.8888888888888888,
           "#fdca26"
          ],
          [
           1,
           "#f0f921"
          ]
         ],
         "showscale": false
        },
        "height": 1000,
        "margin": {
         "b": 0,
         "l": 0,
         "pad": 0,
         "r": 0,
         "t": 0
        },
        "template": {
         "data": {
          "bar": [
           {
            "error_x": {
             "color": "#2a3f5f"
            },
            "error_y": {
             "color": "#2a3f5f"
            },
            "marker": {
             "line": {
              "color": "#E5ECF6",
              "width": 0.5
             },
             "pattern": {
              "fillmode": "overlay",
              "size": 10,
              "solidity": 0.2
             }
            },
            "type": "bar"
           }
          ],
          "barpolar": [
           {
            "marker": {
             "line": {
              "color": "#E5ECF6",
              "width": 0.5
             },
             "pattern": {
              "fillmode": "overlay",
              "size": 10,
              "solidity": 0.2
             }
            },
            "type": "barpolar"
           }
          ],
          "carpet": [
           {
            "aaxis": {
             "endlinecolor": "#2a3f5f",
             "gridcolor": "white",
             "linecolor": "white",
             "minorgridcolor": "white",
             "startlinecolor": "#2a3f5f"
            },
            "baxis": {
             "endlinecolor": "#2a3f5f",
             "gridcolor": "white",
             "linecolor": "white",
             "minorgridcolor": "white",
             "startlinecolor": "#2a3f5f"
            },
            "type": "carpet"
           }
          ],
          "choropleth": [
           {
            "colorbar": {
             "outlinewidth": 0,
             "ticks": ""
            },
            "type": "choropleth"
           }
          ],
          "contour": [
           {
            "colorbar": {
             "outlinewidth": 0,
             "ticks": ""
            },
            "colorscale": [
             [
              0,
              "#0d0887"
             ],
             [
              0.1111111111111111,
              "#46039f"
             ],
             [
              0.2222222222222222,
              "#7201a8"
             ],
             [
              0.3333333333333333,
              "#9c179e"
             ],
             [
              0.4444444444444444,
              "#bd3786"
             ],
             [
              0.5555555555555556,
              "#d8576b"
             ],
             [
              0.6666666666666666,
              "#ed7953"
             ],
             [
              0.7777777777777778,
              "#fb9f3a"
             ],
             [
              0.8888888888888888,
              "#fdca26"
             ],
             [
              1,
              "#f0f921"
             ]
            ],
            "type": "contour"
           }
          ],
          "contourcarpet": [
           {
            "colorbar": {
             "outlinewidth": 0,
             "ticks": ""
            },
            "type": "contourcarpet"
           }
          ],
          "heatmap": [
           {
            "colorbar": {
             "outlinewidth": 0,
             "ticks": ""
            },
            "colorscale": [
             [
              0,
              "#0d0887"
             ],
             [
              0.1111111111111111,
              "#46039f"
             ],
             [
              0.2222222222222222,
              "#7201a8"
             ],
             [
              0.3333333333333333,
              "#9c179e"
             ],
             [
              0.4444444444444444,
              "#bd3786"
             ],
             [
              0.5555555555555556,
              "#d8576b"
             ],
             [
              0.6666666666666666,
              "#ed7953"
             ],
             [
              0.7777777777777778,
              "#fb9f3a"
             ],
             [
              0.8888888888888888,
              "#fdca26"
             ],
             [
              1,
              "#f0f921"
             ]
            ],
            "type": "heatmap"
           }
          ],
          "heatmapgl": [
           {
            "colorbar": {
             "outlinewidth": 0,
             "ticks": ""
            },
            "colorscale": [
             [
              0,
              "#0d0887"
             ],
             [
              0.1111111111111111,
              "#46039f"
             ],
             [
              0.2222222222222222,
              "#7201a8"
             ],
             [
              0.3333333333333333,
              "#9c179e"
             ],
             [
              0.4444444444444444,
              "#bd3786"
             ],
             [
              0.5555555555555556,
              "#d8576b"
             ],
             [
              0.6666666666666666,
              "#ed7953"
             ],
             [
              0.7777777777777778,
              "#fb9f3a"
             ],
             [
              0.8888888888888888,
              "#fdca26"
             ],
             [
              1,
              "#f0f921"
             ]
            ],
            "type": "heatmapgl"
           }
          ],
          "histogram": [
           {
            "marker": {
             "pattern": {
              "fillmode": "overlay",
              "size": 10,
              "solidity": 0.2
             }
            },
            "type": "histogram"
           }
          ],
          "histogram2d": [
           {
            "colorbar": {
             "outlinewidth": 0,
             "ticks": ""
            },
            "colorscale": [
             [
              0,
              "#0d0887"
             ],
             [
              0.1111111111111111,
              "#46039f"
             ],
             [
              0.2222222222222222,
              "#7201a8"
             ],
             [
              0.3333333333333333,
              "#9c179e"
             ],
             [
              0.4444444444444444,
              "#bd3786"
             ],
             [
              0.5555555555555556,
              "#d8576b"
             ],
             [
              0.6666666666666666,
              "#ed7953"
             ],
             [
              0.7777777777777778,
              "#fb9f3a"
             ],
             [
              0.8888888888888888,
              "#fdca26"
             ],
             [
              1,
              "#f0f921"
             ]
            ],
            "type": "histogram2d"
           }
          ],
          "histogram2dcontour": [
           {
            "colorbar": {
             "outlinewidth": 0,
             "ticks": ""
            },
            "colorscale": [
             [
              0,
              "#0d0887"
             ],
             [
              0.1111111111111111,
              "#46039f"
             ],
             [
              0.2222222222222222,
              "#7201a8"
             ],
             [
              0.3333333333333333,
              "#9c179e"
             ],
             [
              0.4444444444444444,
              "#bd3786"
             ],
             [
              0.5555555555555556,
              "#d8576b"
             ],
             [
              0.6666666666666666,
              "#ed7953"
             ],
             [
              0.7777777777777778,
              "#fb9f3a"
             ],
             [
              0.8888888888888888,
              "#fdca26"
             ],
             [
              1,
              "#f0f921"
             ]
            ],
            "type": "histogram2dcontour"
           }
          ],
          "mesh3d": [
           {
            "colorbar": {
             "outlinewidth": 0,
             "ticks": ""
            },
            "type": "mesh3d"
           }
          ],
          "parcoords": [
           {
            "line": {
             "colorbar": {
              "outlinewidth": 0,
              "ticks": ""
             }
            },
            "type": "parcoords"
           }
          ],
          "pie": [
           {
            "automargin": true,
            "type": "pie"
           }
          ],
          "scatter": [
           {
            "fillpattern": {
             "fillmode": "overlay",
             "size": 10,
             "solidity": 0.2
            },
            "type": "scatter"
           }
          ],
          "scatter3d": [
           {
            "line": {
             "colorbar": {
              "outlinewidth": 0,
              "ticks": ""
             }
            },
            "marker": {
             "colorbar": {
              "outlinewidth": 0,
              "ticks": ""
             }
            },
            "type": "scatter3d"
           }
          ],
          "scattercarpet": [
           {
            "marker": {
             "colorbar": {
              "outlinewidth": 0,
              "ticks": ""
             }
            },
            "type": "scattercarpet"
           }
          ],
          "scattergeo": [
           {
            "marker": {
             "colorbar": {
              "outlinewidth": 0,
              "ticks": ""
             }
            },
            "type": "scattergeo"
           }
          ],
          "scattergl": [
           {
            "marker": {
             "colorbar": {
              "outlinewidth": 0,
              "ticks": ""
             }
            },
            "type": "scattergl"
           }
          ],
          "scattermapbox": [
           {
            "marker": {
             "colorbar": {
              "outlinewidth": 0,
              "ticks": ""
             }
            },
            "type": "scattermapbox"
           }
          ],
          "scatterpolar": [
           {
            "marker": {
             "colorbar": {
              "outlinewidth": 0,
              "ticks": ""
             }
            },
            "type": "scatterpolar"
           }
          ],
          "scatterpolargl": [
           {
            "marker": {
             "colorbar": {
              "outlinewidth": 0,
              "ticks": ""
             }
            },
            "type": "scatterpolargl"
           }
          ],
          "scatterternary": [
           {
            "marker": {
             "colorbar": {
              "outlinewidth": 0,
              "ticks": ""
             }
            },
            "type": "scatterternary"
           }
          ],
          "surface": [
           {
            "colorbar": {
             "outlinewidth": 0,
             "ticks": ""
            },
            "colorscale": [
             [
              0,
              "#0d0887"
             ],
             [
              0.1111111111111111,
              "#46039f"
             ],
             [
              0.2222222222222222,
              "#7201a8"
             ],
             [
              0.3333333333333333,
              "#9c179e"
             ],
             [
              0.4444444444444444,
              "#bd3786"
             ],
             [
              0.5555555555555556,
              "#d8576b"
             ],
             [
              0.6666666666666666,
              "#ed7953"
             ],
             [
              0.7777777777777778,
              "#fb9f3a"
             ],
             [
              0.8888888888888888,
              "#fdca26"
             ],
             [
              1,
              "#f0f921"
             ]
            ],
            "type": "surface"
           }
          ],
          "table": [
           {
            "cells": {
             "fill": {
              "color": "#EBF0F8"
             },
             "line": {
              "color": "white"
             }
            },
            "header": {
             "fill": {
              "color": "#C8D4E3"
             },
             "line": {
              "color": "white"
             }
            },
            "type": "table"
           }
          ]
         },
         "layout": {
          "annotationdefaults": {
           "arrowcolor": "#2a3f5f",
           "arrowhead": 0,
           "arrowwidth": 1
          },
          "autotypenumbers": "strict",
          "coloraxis": {
           "colorbar": {
            "outlinewidth": 0,
            "ticks": ""
           }
          },
          "colorscale": {
           "diverging": [
            [
             0,
             "#8e0152"
            ],
            [
             0.1,
             "#c51b7d"
            ],
            [
             0.2,
             "#de77ae"
            ],
            [
             0.3,
             "#f1b6da"
            ],
            [
             0.4,
             "#fde0ef"
            ],
            [
             0.5,
             "#f7f7f7"
            ],
            [
             0.6,
             "#e6f5d0"
            ],
            [
             0.7,
             "#b8e186"
            ],
            [
             0.8,
             "#7fbc41"
            ],
            [
             0.9,
             "#4d9221"
            ],
            [
             1,
             "#276419"
            ]
           ],
           "sequential": [
            [
             0,
             "#0d0887"
            ],
            [
             0.1111111111111111,
             "#46039f"
            ],
            [
             0.2222222222222222,
             "#7201a8"
            ],
            [
             0.3333333333333333,
             "#9c179e"
            ],
            [
             0.4444444444444444,
             "#bd3786"
            ],
            [
             0.5555555555555556,
             "#d8576b"
            ],
            [
             0.6666666666666666,
             "#ed7953"
            ],
            [
             0.7777777777777778,
             "#fb9f3a"
            ],
            [
             0.8888888888888888,
             "#fdca26"
            ],
            [
             1,
             "#f0f921"
            ]
           ],
           "sequentialminus": [
            [
             0,
             "#0d0887"
            ],
            [
             0.1111111111111111,
             "#46039f"
            ],
            [
             0.2222222222222222,
             "#7201a8"
            ],
            [
             0.3333333333333333,
             "#9c179e"
            ],
            [
             0.4444444444444444,
             "#bd3786"
            ],
            [
             0.5555555555555556,
             "#d8576b"
            ],
            [
             0.6666666666666666,
             "#ed7953"
            ],
            [
             0.7777777777777778,
             "#fb9f3a"
            ],
            [
             0.8888888888888888,
             "#fdca26"
            ],
            [
             1,
             "#f0f921"
            ]
           ]
          },
          "colorway": [
           "#636efa",
           "#EF553B",
           "#00cc96",
           "#ab63fa",
           "#FFA15A",
           "#19d3f3",
           "#FF6692",
           "#B6E880",
           "#FF97FF",
           "#FECB52"
          ],
          "font": {
           "color": "#2a3f5f"
          },
          "geo": {
           "bgcolor": "white",
           "lakecolor": "white",
           "landcolor": "#E5ECF6",
           "showlakes": true,
           "showland": true,
           "subunitcolor": "white"
          },
          "hoverlabel": {
           "align": "left"
          },
          "hovermode": "closest",
          "mapbox": {
           "style": "light"
          },
          "paper_bgcolor": "white",
          "plot_bgcolor": "#E5ECF6",
          "polar": {
           "angularaxis": {
            "gridcolor": "white",
            "linecolor": "white",
            "ticks": ""
           },
           "bgcolor": "#E5ECF6",
           "radialaxis": {
            "gridcolor": "white",
            "linecolor": "white",
            "ticks": ""
           }
          },
          "scene": {
           "xaxis": {
            "backgroundcolor": "#E5ECF6",
            "gridcolor": "white",
            "gridwidth": 2,
            "linecolor": "white",
            "showbackground": true,
            "ticks": "",
            "zerolinecolor": "white"
           },
           "yaxis": {
            "backgroundcolor": "#E5ECF6",
            "gridcolor": "white",
            "gridwidth": 2,
            "linecolor": "white",
            "showbackground": true,
            "ticks": "",
            "zerolinecolor": "white"
           },
           "zaxis": {
            "backgroundcolor": "#E5ECF6",
            "gridcolor": "white",
            "gridwidth": 2,
            "linecolor": "white",
            "showbackground": true,
            "ticks": "",
            "zerolinecolor": "white"
           }
          },
          "shapedefaults": {
           "line": {
            "color": "#2a3f5f"
           }
          },
          "ternary": {
           "aaxis": {
            "gridcolor": "white",
            "linecolor": "white",
            "ticks": ""
           },
           "baxis": {
            "gridcolor": "white",
            "linecolor": "white",
            "ticks": ""
           },
           "bgcolor": "#E5ECF6",
           "caxis": {
            "gridcolor": "white",
            "linecolor": "white",
            "ticks": ""
           }
          },
          "title": {
           "x": 0.05
          },
          "xaxis": {
           "automargin": true,
           "gridcolor": "white",
           "linecolor": "white",
           "ticks": "",
           "title": {
            "standoff": 15
           },
           "zerolinecolor": "white",
           "zerolinewidth": 2
          },
          "yaxis": {
           "automargin": true,
           "gridcolor": "white",
           "linecolor": "white",
           "ticks": "",
           "title": {
            "standoff": 15
           },
           "zerolinecolor": "white",
           "zerolinewidth": 2
          }
         }
        },
        "title": {
         "text": ""
        },
        "width": 1000,
        "xaxis": {
         "anchor": "y",
         "constrain": "domain",
         "domain": [
          0,
          1
         ],
         "scaleanchor": "y",
         "showticklabels": false
        },
        "yaxis": {
         "anchor": "x",
         "autorange": "reversed",
         "constrain": "domain",
         "domain": [
          0,
          1
         ],
         "showticklabels": false
        }
       }
      }
     },
     "metadata": {},
     "output_type": "display_data"
    }
   ],
   "source": [
    "import plotly.express as px\n",
    "\n",
    "embedding = model.module.token_embedding_table(torch.arange(vocab_size)).detach().cpu().numpy()\n",
    "\n",
    "similarity = []\n",
    "\n",
    "for x in embedding:\n",
    "    row = []\n",
    "    for y in embedding:\n",
    "        row.append(np.dot(x, y)/(np.linalg.norm(x)*np.linalg.norm(y)))\n",
    "    similarity.append(row)\n",
    "\n",
    "similarity = np.array(similarity)\n",
    "\n",
    "figure = px.imshow(\n",
    "    similarity,\n",
    "    title=f\"{MODELNAME} token embedding similarity matrix\",\n",
    "    #color_continuous_scale=\"portland\"\n",
    ")\n",
    "\n",
    "hide_ui = True\n",
    "\n",
    "if hide_ui:\n",
    "    figure.update_layout(coloraxis_showscale=False)\n",
    "    figure.update_xaxes(showticklabels=False)\n",
    "    figure.update_yaxes(showticklabels=False)\n",
    "    figure.update_layout(\n",
    "        title=\"\",\n",
    "        autosize=False,\n",
    "        margin=dict(\n",
    "            l=0,\n",
    "            r=0,\n",
    "            b=0,\n",
    "            t=0,\n",
    "            pad=0\n",
    "        ),\n",
    "        width=1000,\n",
    "        height=1000\n",
    "    )\n",
    "\n",
    "figure"
   ]
  },
  {
   "cell_type": "code",
   "execution_count": null,
   "metadata": {},
   "outputs": [],
   "source": [
    "with open(f\"./embedding_pictures/position/{MODELNAME}.npy\", \"wb\") as file:\n",
    "    np.save(file, similarity)"
   ]
  },
  {
   "cell_type": "code",
   "execution_count": null,
   "metadata": {},
   "outputs": [],
   "source": [
    "with open(f\"./embedding_pictures/position/{MODELNAME}.npy\", \"rb\") as file:\n",
    "    b = np.load(file)\n",
    "\n",
    "b.shape"
   ]
  },
  {
   "cell_type": "markdown",
   "metadata": {},
   "source": [
    "This next plot is found by taking the embeddings of $s_{i,j}$ at different positions and dotting them together (normed)"
   ]
  },
  {
   "cell_type": "code",
   "execution_count": null,
   "metadata": {},
   "outputs": [],
   "source": [
    "def binarise(pos1, pos2, d=4):\n",
    "    return torch.tensor([int(x) for x in format(2**(d)*pos1+pos2, f'#0{2*d+2}b')[2:]])\n",
    "\n",
    "def process_tensor(tensor):\n",
    "    return tensor.detach().numpy().reshape(-1)\n",
    "\n",
    "similarity = []\n",
    "\n",
    "digits = 5\n",
    "\n",
    "for swap1 in range(2**(digits-1)):\n",
    "    swap1_slice = []\n",
    "\n",
    "    for swap2 in range(2**(digits-1)):\n",
    "        swap2_slice = []\n",
    "\n",
    "        for x in range(10):\n",
    "            row = []\n",
    "\n",
    "            for y in range(10):\n",
    "                token_embedding = process_tensor(\n",
    "                    model.module.token_embedding_table(binarise(swap1, swap2, digits))\n",
    "                )\n",
    "\n",
    "                vectors = []\n",
    "\n",
    "                for j in (x, y):\n",
    "                    position_embedding = process_tensor(\n",
    "                        model.module.position_embedding(torch.arange(j*digits, (j+2)*digits))\n",
    "                    )\n",
    "\n",
    "                    swap_embedding = token_embedding + position_embedding\n",
    "                    vectors.append(swap_embedding / np.linalg.norm(swap_embedding))\n",
    "                \n",
    "                row.append(np.dot(vectors[0], vectors[1]))\n",
    "            swap2_slice.append(row)\n",
    "        swap1_slice.append(swap2_slice)\n",
    "    similarity.append(swap1_slice)\n",
    "\n",
    "similarity = np.array(similarity)"
   ]
  },
  {
   "cell_type": "code",
   "execution_count": null,
   "metadata": {},
   "outputs": [],
   "source": [
    "import plotly.graph_objects as go\n",
    "\n",
    "# the following code is chatgpt generated (mostly)\n",
    "\n",
    "def frame_name(i, j):\n",
    "    return f\"swap_{i}_{j}\"\n",
    "\n",
    "# Create initial heatmap (first slice)\n",
    "initial_data = similarity[0, 0]\n",
    "fig = go.Figure(data=go.Heatmap(z=initial_data))\n",
    "\n",
    "zmin = np.min(similarity)\n",
    "zmax = np.max(similarity)\n",
    "\n",
    "# Define frames\n",
    "frames = [\n",
    "    go.Frame(\n",
    "        data=go.Heatmap(z=similarity[i, j], zmin=zmin, zmax=zmax), \n",
    "        name=frame_name(i, j)\n",
    "    )\n",
    "    for i in range(similarity.shape[0])\n",
    "    for j in range(similarity.shape[1])\n",
    "]\n",
    "\n",
    "# Add frames to the figure\n",
    "fig.frames = frames\n",
    "\n",
    "# Create slider steps for both sliders\n",
    "slider1_steps = [\n",
    "    {\n",
    "        \"args\": [\n",
    "            [frame_name(i, 0)],\n",
    "            {\n",
    "                \"frame\": {\"duration\": 300, \"redraw\": True},\n",
    "                \"mode\": \"immediate\",\n",
    "                \"transition\": {\"duration\": 300},\n",
    "            },\n",
    "        ],\n",
    "        \"label\": f\"Index {i}\",\n",
    "        \"method\": \"animate\",\n",
    "    }\n",
    "    for i in range(similarity.shape[0])\n",
    "]\n",
    "\n",
    "slider2_steps = [\n",
    "    {\n",
    "        \"args\": [\n",
    "            [frame_name(0, j)],\n",
    "            {\n",
    "                \"frame\": {\"duration\": 300, \"redraw\": True},\n",
    "                \"mode\": \"immediate\",\n",
    "                \"transition\": {\"duration\": 300},\n",
    "            },\n",
    "        ],\n",
    "        \"label\": f\"Index {j}\",\n",
    "        \"method\": \"animate\",\n",
    "    }\n",
    "    for j in range(similarity.shape[1])\n",
    "]\n",
    "\n",
    "# Update layout with sliders\n",
    "fig.update_layout(\n",
    "    sliders=[\n",
    "        {\n",
    "            \"currentvalue\": {\n",
    "                \"font\": {\"size\": 10},\n",
    "                \"prefix\": \"Tranposition 1: \",\n",
    "                \"visible\": True,\n",
    "                \"xanchor\": \"center\",\n",
    "            },\n",
    "            \"steps\": slider1_steps,\n",
    "            \"yanchor\": \"top\",\n",
    "            \"xanchor\": \"left\",\n",
    "            \"y\": -0.1\n",
    "        },\n",
    "        {\n",
    "            \"currentvalue\": {\n",
    "                \"font\": {\"size\": 10},\n",
    "                \"prefix\": \"Transposition 2: \",\n",
    "                \"visible\": True,\n",
    "                \"xanchor\": \"center\",\n",
    "            },\n",
    "            \"steps\": slider2_steps,\n",
    "            \"yanchor\": \"top\",\n",
    "            \"xanchor\": \"left\",\n",
    "            \"y\": -0.2\n",
    "        }\n",
    "    ],\n",
    "    xaxis=dict(\n",
    "        scaleanchor=\"y\",\n",
    "        scaleratio=1,\n",
    "        constrain=\"domain\"\n",
    "    ),\n",
    "    yaxis=dict(\n",
    "        scaleanchor=\"x\",\n",
    "        scaleratio=1,\n",
    "        constrain=\"domain\"\n",
    "    )\n",
    ")\n",
    "\n",
    "# Show the figure\n",
    "fig.show()\n"
   ]
  },
  {
   "cell_type": "code",
   "execution_count": null,
   "metadata": {},
   "outputs": [],
   "source": [
    "similarity = []\n",
    "\n",
    "digits = 5\n",
    "\n",
    "for swap in range(2**digits):\n",
    "    swap_slice = []\n",
    "\n",
    "    for kindex in range(MAX_TRANS_NUMBER):\n",
    "\n",
    "        token_embedding = model.module.token_embedding_table(binarise(swap, swap+1, digits)).detach().numpy()\n",
    "\n",
    "        matrices = []\n",
    "\n",
    "        for j in (1, kindex):\n",
    "            position_embedding = model.module.position_embedding(torch.arange(j*digits, (j+2)*digits)).detach().numpy()\n",
    "\n",
    "            swap_embedding = token_embedding + position_embedding\n",
    "            matrices.append(swap_embedding)\n",
    "\n",
    "        swap_slice.append(np.dot(matrices[0], np.transpose(matrices[1])))\n",
    "    \n",
    "    similarity.append(swap_slice)\n",
    "\n",
    "similarity = np.array(similarity)"
   ]
  },
  {
   "cell_type": "code",
   "execution_count": null,
   "metadata": {},
   "outputs": [],
   "source": [
    "swap+1"
   ]
  },
  {
   "cell_type": "code",
   "execution_count": null,
   "metadata": {},
   "outputs": [],
   "source": [
    "from plotly import optional_imports\n",
    "nbformat = optional_imports.get_module(\"nbformat\")\n",
    "print(nbformat)"
   ]
  },
  {
   "cell_type": "code",
   "execution_count": null,
   "metadata": {},
   "outputs": [],
   "source": [
    "import pandas as pd\n",
    "\n",
    "results = pd.read_csv(\"./results/window-7.0.csv\")"
   ]
  },
  {
   "cell_type": "code",
   "execution_count": null,
   "metadata": {},
   "outputs": [],
   "source": [
    "num_results = results[\"results\"].to_numpy().astype(int)\n",
    "\n",
    "successes = []\n",
    "failures = []\n",
    "\n",
    "for perm, result in zip(test_perms, num_results):\n",
    "    if result:\n",
    "        successes.append(perm)\n",
    "    else:\n",
    "        failures.append(perm)"
   ]
  },
  {
   "cell_type": "code",
   "execution_count": null,
   "metadata": {},
   "outputs": [],
   "source": [
    "results.head(10)"
   ]
  },
  {
   "cell_type": "code",
   "execution_count": null,
   "metadata": {},
   "outputs": [],
   "source": [
    "val_perms[0]"
   ]
  },
  {
   "cell_type": "code",
   "execution_count": null,
   "metadata": {},
   "outputs": [],
   "source": []
  },
  {
   "cell_type": "code",
   "execution_count": null,
   "metadata": {},
   "outputs": [],
   "source": [
    "from sklearn.decomposition import PCA\n",
    "\n",
    "pca = PCA(n_components=3)\n",
    "\n",
    "fit = pca.fit_transform(model.module.position_embedding(torch.arange(block_size)).detach().numpy())\n",
    "fit"
   ]
  },
  {
   "cell_type": "code",
   "execution_count": null,
   "metadata": {},
   "outputs": [],
   "source": [
    "pca.explained_variance_ratio_"
   ]
  },
  {
   "cell_type": "code",
   "execution_count": null,
   "metadata": {},
   "outputs": [],
   "source": [
    "val_seqs[0]"
   ]
  },
  {
   "cell_type": "markdown",
   "metadata": {},
   "source": [
    "## Custom ouput tests"
   ]
  },
  {
   "cell_type": "code",
   "execution_count": null,
   "metadata": {},
   "outputs": [],
   "source": [
    "def get_perm_hybrid(seq, size):\n",
    "    og = list(range(size))\n",
    "\n",
    "    swaps = []\n",
    "\n",
    "    for pos, x in enumerate(seq):\n",
    "        if pos % 2 == 0:\n",
    "            swaps.append([x])\n",
    "        else:\n",
    "            swaps[-1].append(x)\n",
    "    \n",
    "    for x, y in swaps:\n",
    "        og[x], og[y] = og[y], og[x]\n",
    "\n",
    "    return np.array(og)\n",
    "\n",
    "def convert_to_hybrid(seq, size):\n",
    "    new = []\n",
    "    \n",
    "    for char in seq:\n",
    "        new.append(int(char//size))\n",
    "        new.append(int(char%size))\n",
    "    \n",
    "    return new\n",
    "\n",
    "def convert_to_general(seq, size):\n",
    "    new = []\n",
    "\n",
    "    for x, y in zip(seq[::2], seq[1::2]):\n",
    "        new.append(x*size + y)\n",
    "\n",
    "    return new\n",
    "\n",
    "custom = [0, 1, 1, 2, 2, 3, 3, 4, 4, 5, 5, 6, 6, 7, 7, 8, 8, 9, 9, 15]\n",
    "\n",
    "true = get_perm_hybrid(\n",
    "    custom, \n",
    "    16\n",
    ")\n",
    "\n",
    "genned = model.module.generate(\n",
    "    convert_to_general(custom, 16), \n",
    "    force_valid=False, \n",
    "    debug=False\n",
    ")\n",
    "\n",
    "print(\"True: \", true)\n",
    "print(\"Model:\", genned)\n",
    "print(\"Same:\", (true == genned).all())\n",
    "print(\"Sortd:\", np.sort(genned))"
   ]
  },
  {
   "cell_type": "code",
   "execution_count": null,
   "metadata": {},
   "outputs": [],
   "source": [
    "a = range(20)\n",
    "\n",
    "for x, y in zip(a[::2], a[1::2]):\n",
    "    print(x, y)"
   ]
  },
  {
   "cell_type": "code",
   "execution_count": null,
   "metadata": {},
   "outputs": [],
   "source": [
    "convert_to_general(custom, 16)"
   ]
  },
  {
   "cell_type": "code",
   "execution_count": null,
   "metadata": {},
   "outputs": [],
   "source": [
    "[0 for x in range(20)]"
   ]
  },
  {
   "cell_type": "code",
   "execution_count": null,
   "metadata": {},
   "outputs": [],
   "source": [
    "# wrong\n",
    "b = torch.tensor([-265.7672, -265.7672, -265.7672, -265.7672, -265.7672, -265.7672,\n",
    "         -265.7672, -265.7672, -265.7672, -265.7672, -265.7672, -265.7672,\n",
    "         -265.7672, -265.7672, -265.7672, -265.7672, -240.0325, -247.6589,\n",
    "         -246.5491, -257.4102, -257.1504, -257.8494, -255.2135, -254.7709,\n",
    "         -253.9813, -256.4985, -256.2157, -261.1152, -266.6082, -258.3374,\n",
    "         -273.0349, -261.6855, -265.7672, -265.7672])\n",
    "\n",
    "import plotly.express as px\n",
    "px.bar(b[16:32]-b[16:32].max()-1)"
   ]
  },
  {
   "cell_type": "code",
   "execution_count": null,
   "metadata": {},
   "outputs": [],
   "source": [
    "train_perms[0]"
   ]
  },
  {
   "cell_type": "code",
   "execution_count": null,
   "metadata": {},
   "outputs": [],
   "source": [
    "success_fixed_count = []\n",
    "\n",
    "for perm in successes:\n",
    "    fixed_count = 0\n",
    "\n",
    "    for pos, char in enumerate(perm):\n",
    "        if pos == char:\n",
    "            fixed_count += 1\n",
    "    \n",
    "    success_fixed_count.append(fixed_count)\n",
    "\n",
    "sum(success_fixed_count)/len(success_fixed_count)"
   ]
  },
  {
   "cell_type": "code",
   "execution_count": null,
   "metadata": {},
   "outputs": [],
   "source": [
    "failure_fixed_count = []\n",
    "\n",
    "for perm in failures:\n",
    "    fixed_count = 0\n",
    "\n",
    "    for pos, char in enumerate(perm):\n",
    "        if pos == char:\n",
    "            fixed_count += 1\n",
    "    \n",
    "    failure_fixed_count.append(fixed_count)\n",
    "\n",
    "sum(failure_fixed_count)/len(failure_fixed_count)"
   ]
  },
  {
   "cell_type": "code",
   "execution_count": null,
   "metadata": {},
   "outputs": [],
   "source": [
    "import csv\n",
    "\n",
    "with open('win-7-succs.csv', 'w', newline='') as csvfile:\n",
    "    writer = csv.writer(csvfile)\n",
    "    writer.writerow([\"successes\"])\n",
    "\n",
    "    for x in success_fixed_count:\n",
    "        writer.writerow([x])\n"
   ]
  },
  {
   "cell_type": "code",
   "execution_count": null,
   "metadata": {},
   "outputs": [],
   "source": [
    "import csv\n",
    "\n",
    "with open('win-7-fails.csv', 'w', newline='') as csvfile:\n",
    "    writer = csv.writer(csvfile)\n",
    "    writer.writerow([\"failures\"])\n",
    "\n",
    "    for x in failure_fixed_count:\n",
    "        writer.writerow([x])"
   ]
  },
  {
   "cell_type": "code",
   "execution_count": null,
   "metadata": {},
   "outputs": [],
   "source": [
    "from importlib import import_module"
   ]
  },
  {
   "cell_type": "code",
   "execution_count": null,
   "metadata": {},
   "outputs": [],
   "source": [
    "import_module(\"nbformat\")"
   ]
  },
  {
   "cell_type": "code",
   "execution_count": null,
   "metadata": {},
   "outputs": [],
   "source": [
    "import nbformat"
   ]
  },
  {
   "cell_type": "code",
   "execution_count": null,
   "metadata": {},
   "outputs": [],
   "source": [
    "!pip uninstall rpds-py"
   ]
  },
  {
   "cell_type": "code",
   "execution_count": null,
   "metadata": {},
   "outputs": [],
   "source": [
    "!pip show nbformat"
   ]
  },
  {
   "cell_type": "code",
   "execution_count": null,
   "metadata": {},
   "outputs": [],
   "source": [
    "!pip install --upgrade notebook jupyter jupyterlab"
   ]
  },
  {
   "cell_type": "code",
   "execution_count": null,
   "metadata": {},
   "outputs": [],
   "source": [
    "!pip install --upgrade plotly"
   ]
  },
  {
   "cell_type": "code",
   "execution_count": null,
   "metadata": {},
   "outputs": [],
   "source": [
    "00110100"
   ]
  },
  {
   "cell_type": "code",
   "execution_count": null,
   "metadata": {},
   "outputs": [],
   "source": [
    "convert_tokens_to_perm([12,13,14,15,16,17])"
   ]
  },
  {
   "cell_type": "code",
   "execution_count": null,
   "metadata": {},
   "outputs": [],
   "source": [
    "k = 0\n",
    "seq = val_seqs[k]\n",
    "perm = val_perms[k]\n",
    "perm"
   ]
  },
  {
   "cell_type": "code",
   "execution_count": null,
   "metadata": {},
   "outputs": [],
   "source": [
    "a = model.module.generate(seq)"
   ]
  },
  {
   "cell_type": "code",
   "execution_count": null,
   "metadata": {},
   "outputs": [],
   "source": [
    "# Calculate and print accuracy after each epoch\n",
    "with torch.no_grad():\n",
    "    model.eval()  # Set the model to evaluation mode\n",
    "\n",
    "    # calculate validation stats\n",
    "    total_accuracy = 0.0\n",
    "    total_loss = 0.0\n",
    "\n",
    "    num_batches = 0\n",
    "\n",
    "    print(\"Evaluating...\")\n",
    "    for inputs, targets in tqdm(val_dataloader):\n",
    "        outputs = model(inputs)\n",
    "\n",
    "        0/0\n",
    "\n",
    "        # calculate the val accuracy\n",
    "        accuracy = calculate_accuracy(outputs, targets)\n",
    "        total_accuracy += accuracy\n",
    "\n",
    "        # Calculate the val loss\n",
    "        loss = criterion(outputs, targets)\n",
    "        total_loss += loss.item()\n",
    "        num_batches += 1\n",
    "\n",
    "    average_accuracy = total_accuracy / num_batches\n",
    "    val_loss = total_loss / num_batches\n",
    "\n",
    "    metrics = {\n",
    "        \"validation_accuracy\": average_accuracy,\n",
    "        \"loss\": val_loss,\n",
    "        \"training_accuracy\": average_train_accuracy,\n",
    "        \"training_loss\": train_loss,\n",
    "    }"
   ]
  },
  {
   "cell_type": "code",
   "execution_count": null,
   "metadata": {},
   "outputs": [],
   "source": [
    "inputs[2]"
   ]
  },
  {
   "cell_type": "code",
   "execution_count": null,
   "metadata": {},
   "outputs": [],
   "source": [
    "outputs[2]"
   ]
  },
  {
   "cell_type": "code",
   "execution_count": null,
   "metadata": {},
   "outputs": [],
   "source": [
    "torch.argmax(outputs[2])"
   ]
  },
  {
   "cell_type": "code",
   "execution_count": null,
   "metadata": {},
   "outputs": [],
   "source": [
    "model.module.softmax(outputs)[1]"
   ]
  },
  {
   "cell_type": "code",
   "execution_count": null,
   "metadata": {},
   "outputs": [],
   "source": [
    "targets[1]"
   ]
  },
  {
   "cell_type": "code",
   "execution_count": null,
   "metadata": {},
   "outputs": [],
   "source": [
    "val_perms[0]"
   ]
  },
  {
   "cell_type": "code",
   "execution_count": null,
   "metadata": {},
   "outputs": [],
   "source": [
    "import pyperclip\n",
    "\n",
    "def np_to_mathematica(array, copy=True):\n",
    "    formatted = str(array.tolist()).replace(\"[\", \"{\").replace(\"]\", \"}\")\n",
    "    return formatted"
   ]
  },
  {
   "cell_type": "code",
   "execution_count": null,
   "metadata": {},
   "outputs": [],
   "source": [
    "pyperclip.copy(np_to_mathematica(embedding_pca))\n",
    "print(\"Copied!\")"
   ]
  },
  {
   "cell_type": "code",
   "execution_count": null,
   "metadata": {},
   "outputs": [],
   "source": [
    "from sklearn.decomposition import PCA\n",
    "import numpy as np\n",
    "\n",
    "embedding = np.array(model.module.token_embedding_table.weight.cpu().detach().numpy())\n",
    "pos_embedding = np.array(model.module.position_embedding.weight.cpu().detach().numpy())\n",
    "\n",
    "pca = PCA(n_components=3)\n",
    "pca.fit(embedding)\n",
    "\n",
    "embedding_pca = pca.transform(embedding)\n",
    "\n",
    "pca = PCA(n_components=2)\n",
    "pca.fit(pos_embedding)\n",
    "\n",
    "pos_embedding_pca = pca.transform(pos_embedding)"
   ]
  },
  {
   "cell_type": "code",
   "execution_count": null,
   "metadata": {},
   "outputs": [],
   "source": []
  },
  {
   "cell_type": "code",
   "execution_count": null,
   "metadata": {},
   "outputs": [],
   "source": [
    "import plotly.express as px\n",
    "\n",
    "similarity = []\n",
    "\n",
    "for x in embedding:\n",
    "    row = []\n",
    "    for y in embedding:\n",
    "        row.append(np.dot(x, y))\n",
    "    similarity.append(row)\n",
    "\n",
    "px.imshow(similarity)"
   ]
  },
  {
   "cell_type": "code",
   "execution_count": null,
   "metadata": {},
   "outputs": [],
   "source": [
    "np.dot(pos_embedding[MAX_LENGTH], embedding[START_PREDICTION_TOKEN])"
   ]
  },
  {
   "cell_type": "code",
   "execution_count": null,
   "metadata": {},
   "outputs": [],
   "source": [
    "convert_to_transposition(13)"
   ]
  },
  {
   "cell_type": "code",
   "execution_count": null,
   "metadata": {},
   "outputs": [],
   "source": [
    "threshold = 30\n",
    "\n",
    "for pos1, x in enumerate(embedding):\n",
    "    for pos2, y in enumerate(embedding):\n",
    "        if np.dot(x, y) > threshold and pos1 != pos2:\n",
    "            print(\"x\", pos1, \"y\", pos2, \"dot\", np.dot(x, y))"
   ]
  },
  {
   "cell_type": "code",
   "execution_count": null,
   "metadata": {},
   "outputs": [],
   "source": [
    "px.imshow(model.module.token_embedding_table.weight.detach())"
   ]
  },
  {
   "cell_type": "code",
   "execution_count": null,
   "metadata": {},
   "outputs": [],
   "source": [
    "torch.no_grad()\n",
    "model.eval()"
   ]
  },
  {
   "cell_type": "code",
   "execution_count": null,
   "metadata": {},
   "outputs": [],
   "source": [
    "targets"
   ]
  },
  {
   "cell_type": "code",
   "execution_count": null,
   "metadata": {},
   "outputs": [],
   "source": [
    "# calculate validation stats\n",
    "criterion = nn.CrossEntropyLoss()\n",
    "\n",
    "total_accuracy = 0.0\n",
    "total_loss = 0.0\n",
    "\n",
    "num_batches = 0\n",
    "\n",
    "print(\"Evaluating...\")\n",
    "for inputs, targets in tqdm(val_dataloader):\n",
    "    outputs = model(inputs)\n",
    "\n",
    "    # calculate the val accuracy\n",
    "    accuracy = calculate_accuracy(outputs, targets)\n",
    "    total_accuracy += accuracy\n",
    "\n",
    "    # Calculate the val loss\n",
    "    loss = criterion(outputs, targets)\n",
    "    total_loss += loss.item()\n",
    "    num_batches += 1\n",
    "\n",
    "average_accuracy = total_accuracy / num_batches\n",
    "val_loss = total_loss / num_batches"
   ]
  },
  {
   "cell_type": "code",
   "execution_count": null,
   "metadata": {},
   "outputs": [],
   "source": [
    "val_loss"
   ]
  },
  {
   "cell_type": "code",
   "execution_count": null,
   "metadata": {},
   "outputs": [],
   "source": [
    "vocab_size"
   ]
  },
  {
   "cell_type": "code",
   "execution_count": null,
   "metadata": {},
   "outputs": [],
   "source": [
    "output = model(data)"
   ]
  },
  {
   "cell_type": "code",
   "execution_count": null,
   "metadata": {},
   "outputs": [],
   "source": [
    "train"
   ]
  },
  {
   "cell_type": "code",
   "execution_count": null,
   "metadata": {},
   "outputs": [],
   "source": [
    "train.shape"
   ]
  },
  {
   "cell_type": "code",
   "execution_count": null,
   "metadata": {},
   "outputs": [],
   "source": [
    "output.shape"
   ]
  },
  {
   "cell_type": "code",
   "execution_count": null,
   "metadata": {},
   "outputs": [],
   "source": []
  },
  {
   "cell_type": "code",
   "execution_count": null,
   "metadata": {},
   "outputs": [],
   "source": [
    "output[1]"
   ]
  },
  {
   "cell_type": "code",
   "execution_count": null,
   "metadata": {},
   "outputs": [],
   "source": [
    "model.get_device()"
   ]
  },
  {
   "cell_type": "code",
   "execution_count": null,
   "metadata": {},
   "outputs": [],
   "source": [
    "dev"
   ]
  },
  {
   "cell_type": "code",
   "execution_count": null,
   "metadata": {},
   "outputs": [],
   "source": [
    "if cuda.is_available():\n",
    "    dev = \"cuda:0\"\n",
    "else:\n",
    "    dev = \"cpu\""
   ]
  },
  {
   "cell_type": "code",
   "execution_count": null,
   "metadata": {},
   "outputs": [],
   "source": [
    "conver"
   ]
  },
  {
   "cell_type": "code",
   "execution_count": null,
   "metadata": {},
   "outputs": [],
   "source": []
  },
  {
   "cell_type": "code",
   "execution_count": null,
   "metadata": {},
   "outputs": [],
   "source": [
    "model.eval()\n",
    "\n",
    "# use gpu for processing\n",
    "if cuda.is_available():\n",
    "    dev = \"cuda:0\"\n",
    "else:\n",
    "    dev = \"cpu\"\n",
    "\n",
    "# create an initial input\n",
    "input_tensor = torch.ones(block_size, dtype=int).to(dev)\n",
    "input_tensor *= TO_PREDICT_TOKEN\n",
    "input_tensor[:len(seq)] = torch.tensor(seq, dtype=int).to(dev)\n",
    "input_tensor[len(seq)] = START_PREDICTION_TOKEN"
   ]
  },
  {
   "cell_type": "code",
   "execution_count": null,
   "metadata": {},
   "outputs": [],
   "source": [
    "input_tensor.unsqueeze(0)"
   ]
  },
  {
   "cell_type": "code",
   "execution_count": null,
   "metadata": {},
   "outputs": [],
   "source": [
    "model(input_tensor.unsqueeze(0))"
   ]
  },
  {
   "cell_type": "code",
   "execution_count": null,
   "metadata": {},
   "outputs": [],
   "source": [
    "torch.argmax(model(input_tensor.unsqueeze(0)), dim=1)"
   ]
  },
  {
   "cell_type": "code",
   "execution_count": null,
   "metadata": {},
   "outputs": [],
   "source": [
    "prediction_tensor = torch.zeros(block_size, dtype=int).to(dev)"
   ]
  },
  {
   "cell_type": "code",
   "execution_count": null,
   "metadata": {},
   "outputs": [],
   "source": [
    "sequence = [1,2,3,1,2,3]"
   ]
  },
  {
   "cell_type": "code",
   "execution_count": null,
   "metadata": {},
   "outputs": [],
   "source": [
    "prediction_tensor[:len(sequence)] = torch.tensor(sequence, dtype=int).to(dev)"
   ]
  },
  {
   "cell_type": "code",
   "execution_count": null,
   "metadata": {},
   "outputs": [],
   "source": [
    "prediction_tensor"
   ]
  },
  {
   "cell_type": "code",
   "execution_count": null,
   "metadata": {},
   "outputs": [],
   "source": [
    "input_tensor = torch.ones(block_size, dtype=int).to(dev)"
   ]
  },
  {
   "cell_type": "code",
   "execution_count": null,
   "metadata": {},
   "outputs": [],
   "source": [
    "input_tensor *= TO_PREDICT_TOKEN"
   ]
  },
  {
   "cell_type": "code",
   "execution_count": null,
   "metadata": {},
   "outputs": [],
   "source": [
    "input_tensor"
   ]
  },
  {
   "cell_type": "markdown",
   "metadata": {},
   "source": [
    "## pretty pictures"
   ]
  },
  {
   "cell_type": "code",
   "execution_count": null,
   "metadata": {},
   "outputs": [],
   "source": [
    "with open(\"./embedding_pictures/position/torn-1.0.npy\", \"rb\") as file:\n",
    "    pos_pictures = np.load(file)\n",
    "\n",
    "with open(\"./embedding_pictures/token/torn-1.0.npy\", \"rb\") as file:\n",
    "    token_pictures = np.load(file)"
   ]
  },
  {
   "cell_type": "code",
   "execution_count": null,
   "metadata": {},
   "outputs": [],
   "source": [
    "def show_image(image):\n",
    "    return px.imshow(\n",
    "        image, \n",
    "        animation_frame=0, \n",
    "        zmin=image.min(),\n",
    "        zmax=image.max()\n",
    "    )\n",
    "\n",
    "show_image(token_pictures)"
   ]
  }
 ],
 "metadata": {
  "kernelspec": {
   "display_name": "Python 3",
   "language": "python",
   "name": "python3"
  },
  "language_info": {
   "codemirror_mode": {
    "name": "ipython",
    "version": 3
   },
   "file_extension": ".py",
   "mimetype": "text/x-python",
   "name": "python",
   "nbconvert_exporter": "python",
   "pygments_lexer": "ipython3",
   "version": "3.12.2"
  },
  "orig_nbformat": 4
 },
 "nbformat": 4,
 "nbformat_minor": 2
}
